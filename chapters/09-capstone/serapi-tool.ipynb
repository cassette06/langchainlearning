{
 "cells": [
  {
   "cell_type": "markdown",
   "metadata": {},
   "source": [
    "# SerpAPI Tool Helper"
   ]
  },
  {
   "cell_type": "markdown",
   "metadata": {},
   "source": [
    "This notebook provides a quick rundown of how we construct an async SerpAPI tool. Let's start by query SerpAPI synchronously via their Python SDK:"
   ]
  },
  {
   "cell_type": "code",
   "execution_count": null,
   "metadata": {},
   "outputs": [
    {
     "name": "stdout",
     "output_type": "stream",
     "text": [
      "{'search_metadata': {'id': '68762e52895d90ddd276d1f5', 'status': 'Success', 'json_endpoint': 'https://serpapi.com/searches/6e396d47fea95486/68762e52895d90ddd276d1f5.json', 'pixel_position_endpoint': 'https://serpapi.com/searches/6e396d47fea95486/68762e52895d90ddd276d1f5.json_with_pixel_position', 'created_at': '2025-07-15 10:32:50 UTC', 'processed_at': '2025-07-15 10:32:50 UTC', 'google_url': 'https://www.google.com/search?q=latest+news+in+the+world&oq=latest+news+in+the+world&sourceid=chrome&ie=UTF-8', 'raw_html_file': 'https://serpapi.com/searches/6e396d47fea95486/68762e52895d90ddd276d1f5.html', 'total_time_taken': 1.28}, 'search_parameters': {'engine': 'google', 'q': 'latest news in the world', 'google_domain': 'google.com', 'device': 'desktop'}, 'search_information': {'query_displayed': 'latest news in the world', 'total_results': 1540000000, 'time_taken_displayed': 0.31, 'organic_results_state': 'Results for exact spelling'}, 'inline_videos': [{'position': 1, 'title': 'ABC World News Tonight with David Muir Full Broadcast - July ...', 'link': 'https://www.youtube.com/watch?v=gHLpG4EJRw8', 'thumbnail': 'https://encrypted-tbn0.gstatic.com/images?q=tbn:ANd9GcRMW1Hn4j5zSV91ChHZrMolr4_tZJ7gFipkpROJYqvFlr_-&s', 'channel': 'ABC News', 'duration': '19:58', 'platform': 'YouTube'}, {'position': 2, 'title': 'Latest news bulletin | July 15th – Morning', 'link': 'https://www.youtube.com/watch?v=dn0ZN2Fr-X8', 'thumbnail': 'https://encrypted-tbn0.gstatic.com/images?q=tbn:ANd9GcRhoFUyFM371byIos-3P5ADFSrZg1t7cIilSh_h0MzDvV-u&s', 'channel': 'euronews', 'duration': '11:41', 'platform': 'YouTube'}, {'position': 3, 'title': 'ABC World News Tonight with David Muir Full Broadcast - July ...', 'link': 'https://www.youtube.com/watch?v=CgKNfWfuoK8', 'thumbnail': 'https://encrypted-tbn0.gstatic.com/images?q=tbn:ANd9GcQKsaTL3PvMDvCrf-ONq5iiXIc0e66vtipuavduXuz_hIij&s', 'channel': 'ABC News', 'duration': '20:02', 'platform': 'YouTube'}], 'related_questions': [{'question': 'What is the trending news in the world now?', 'type': 'featured_snippet', 'snippet': None, 'title': 'World', 'link': 'https://www.cnn.com/world', 'list': ['Violent clashes erupt between far-right groups and migrants in Spanish town.', \"Prisoner in France escapes in his cellmate's bag.\", 'For Subscribers An Irish baby was discarded in a septic tank 80 years ago. ... ', 'Children killed collecting water in Gaza, medical officials say, as ceasefire talks hit sticking points.'], 'displayed_link': 'https://www.cnn.com › world', 'next_page_token': 'eyJvbnMiOiIxMDA0MSIsImZjIjoiRXFBQkNtSkJUR3QwWDNaSVdHSk1SbnBzVjJGMFpXVnVOWFpMWWtGelJFMU9hRW95TFZWNVRHVjRjaTFuU0V4ME56VldTRzg1UkhjNU4ydEhSbkZ1Um10R04xUllYM1IzT1Zoa1FXSlhSVTF3UmxWZmNUQTBNV3h1V1hsTk1sTjVUWG8wTmsweVVSSVdWWGsxTW1GS2VYWkZZbUprZDA0MFVIVnhTMkpqVVJvaVFVWk5RVWRIY25RemVYTkhNazlzWTFaTGIwaHJNVWQ2WmtZMmNIZGFjMk5oWnciLCJmY3YiOiIzIiwiZWkiOiJVeTUyYUp5dkViYmR3TjRQdXFLYmNRIiwicWMiOiJDaGhzWVhSbGMzUWdibVYzY3lCcGJpQjBhR1VnZDI5eWJHUVFBREVBQUFDZ3o4M0JQMzBVdURZXyIsInF1ZXN0aW9uIjoiV2hhdCBpcyB0aGUgdHJlbmRpbmcgbmV3cyBpbiB0aGUgd29ybGQgbm93PyIsImxrIjoiYzVQU0tzOUlMRkhJTEZZb3lVaFZLQ2xLelV2SnpFdFh5RXN0TDFiSXpBTUxsdWNYNWFRbzVPV1hBd0EiLCJicyI6ImM1Mk9Pd29DTVJSRnNRMElsa09xQnlwLUN3Mmo3V3pCVHJBUUl2TklBc09MSklFd2pVdHhJUzdFMXEyb0VfeDBEcmFYYy04OWJNOW1XeTBER0E5Qkl3U0hWQnBTUUJnOUdHckNhRjFWQXRsWVpPZVRtUE5wYk4xZ0d6Wm85cVhEaE5zakxCZWdVWmFWSVh4czJGTFdSWGJOeFpEMzQyLVU3ZGprMl9oZ2xFSWYwcjBQMXRYZ2pOSWgtVjZrbVBKeGJNa3p4MVlmMi1mYnlMODBEQVYwSklPeEpLdlVmcHNWMmEwcjFqeVBmM1I3blRzIiwiaWQiOiJmY19VeTUyYUp5dkViYmR3TjRQdXFLYmNRXzIifQ==', 'serpapi_link': 'https://serpapi.com/search.json?device=desktop&engine=google_related_questions&google_domain=google.com&next_page_token=eyJvbnMiOiIxMDA0MSIsImZjIjoiRXFBQkNtSkJUR3QwWDNaSVdHSk1SbnBzVjJGMFpXVnVOWFpMWWtGelJFMU9hRW95TFZWNVRHVjRjaTFuU0V4ME56VldTRzg1UkhjNU4ydEhSbkZ1Um10R04xUllYM1IzT1Zoa1FXSlhSVTF3UmxWZmNUQTBNV3h1V1hsTk1sTjVUWG8wTmsweVVSSVdWWGsxTW1GS2VYWkZZbUprZDA0MFVIVnhTMkpqVVJvaVFVWk5RVWRIY25RemVYTkhNazlzWTFaTGIwaHJNVWQ2WmtZMmNIZGFjMk5oWnciLCJmY3YiOiIzIiwiZWkiOiJVeTUyYUp5dkViYmR3TjRQdXFLYmNRIiwicWMiOiJDaGhzWVhSbGMzUWdibVYzY3lCcGJpQjBhR1VnZDI5eWJHUVFBREVBQUFDZ3o4M0JQMzBVdURZXyIsInF1ZXN0aW9uIjoiV2hhdCBpcyB0aGUgdHJlbmRpbmcgbmV3cyBpbiB0aGUgd29ybGQgbm93PyIsImxrIjoiYzVQU0tzOUlMRkhJTEZZb3lVaFZLQ2xLelV2SnpFdFh5RXN0TDFiSXpBTUxsdWNYNWFRbzVPV1hBd0EiLCJicyI6ImM1Mk9Pd29DTVJSRnNRMElsa09xQnlwLUN3Mmo3V3pCVHJBUUl2TklBc09MSklFd2pVdHhJUzdFMXEyb0VfeDBEcmFYYy04OWJNOW1XeTBER0E5Qkl3U0hWQnBTUUJnOUdHckNhRjFWQXRsWVpPZVRtUE5wYk4xZ0d6Wm85cVhEaE5zakxCZWdVWmFWSVh4czJGTFdSWGJOeFpEMzQyLVU3ZGprMl9oZ2xFSWYwcjBQMXRYZ2pOSWgtVjZrbVBKeGJNa3p4MVlmMi1mYnlMODBEQVYwSklPeEpLdlVmcHNWMmEwcjFqeVBmM1I3blRzIiwiaWQiOiJmY19VeTUyYUp5dkViYmR3TjRQdXFLYmNRXzIifQ%3D%3D'}, {'question': 'What are the top 10 headlines today?', 'type': 'featured_snippet', 'snippet': None, 'title': 'Latest News Today: Breaking News and Top Headlines from India ...', 'link': 'https://indianexpress.com/', 'list': [\"'Step Down at 75': RSS Chief's Comment Stirs Political Pot...\", \"US Brazil Tariff War: Lula Slams Trump's Tariff Threat As...\", 'Bihar Electoral Roll: Congress Doubles BLA Presence; SC Proposes Aadhaar,...', \"Gurugram Tennis Player Murder: How Radhika Yadav's Father Killed His Daughter.\"], 'displayed_link': None, 'source_logo': 'https://serpapi.com/searches/68762e52895d90ddd276d1f5/images/005abd773d04d1ae77e5386f55bdc4c77fd7c887db5857cfe02c9c2bbe592f4e.png', 'next_page_token': 'eyJvbnMiOiIxMDA0MSIsImZjIjoiRXFBQkNtSkJUR3QwWDNaSVdHSk1SbnBzVjJGMFpXVnVOWFpMWWtGelJFMU9hRW95TFZWNVRHVjRjaTFuU0V4ME56VldTRzg1UkhjNU4ydEhSbkZ1Um10R04xUllYM1IzT1Zoa1FXSlhSVTF3UmxWZmNUQTBNV3h1V1hsTk1sTjVUWG8wTmsweVVSSVdWWGsxTW1GS2VYWkZZbUprZDA0MFVIVnhTMkpqVVJvaVFVWk5RVWRIY25RemVYTkhNazlzWTFaTGIwaHJNVWQ2WmtZMmNIZGFjMk5oWnciLCJmY3YiOiIzIiwiZWkiOiJVeTUyYUp5dkViYmR3TjRQdXFLYmNRIiwicWMiOiJDaGhzWVhSbGMzUWdibVYzY3lCcGJpQjBhR1VnZDI5eWJHUVFBREVBQUFDZ3o4M0JQMzBVdURZXyIsInF1ZXN0aW9uIjoiV2hhdCBhcmUgdGhlIHRvcCAxMCBoZWFkbGluZXMgdG9kYXk/IiwibGsiOiJjNU5TTHM5SUxGRklMRXBWS01rQTR2d0NCVU1EaFl6VXhKU2N6THpVWXFCQVNtSWxBQSIsImJzIjoiYzUyT093b0NNUlJGc1EwSWxrT3FCeXAtQ3cyajdXekJUckFRSXZOSUFzT0xKSUV3alV0eElTN0UxcTJvRV94MERyYVhjLTg5Yk05bVd5MERHQTlCSXdTSFZCcFNRQmc5R0dyQ2FGMVZBdGxZWk9lVG1QTnBiTjFnR3pabzlxWERoTnNqTEJlZ1VaYVZJWHhzMkZMV1JYYk54WkQzNDItVTdkamsyX2hnbEVJZjByMFAxdFhnak5JaC1WNmttUEp4Yk1rengxWWYyLWZieUw4MERBVjBKSU94Skt2VWZwc1YyYTByMWp5UGYzUjduVHMiLCJpZCI6ImZjX1V5NTJhSnl2RWJiZHdONFB1cUtiY1FfMiJ9', 'serpapi_link': 'https://serpapi.com/search.json?device=desktop&engine=google_related_questions&google_domain=google.com&next_page_token=eyJvbnMiOiIxMDA0MSIsImZjIjoiRXFBQkNtSkJUR3QwWDNaSVdHSk1SbnBzVjJGMFpXVnVOWFpMWWtGelJFMU9hRW95TFZWNVRHVjRjaTFuU0V4ME56VldTRzg1UkhjNU4ydEhSbkZ1Um10R04xUllYM1IzT1Zoa1FXSlhSVTF3UmxWZmNUQTBNV3h1V1hsTk1sTjVUWG8wTmsweVVSSVdWWGsxTW1GS2VYWkZZbUprZDA0MFVIVnhTMkpqVVJvaVFVWk5RVWRIY25RemVYTkhNazlzWTFaTGIwaHJNVWQ2WmtZMmNIZGFjMk5oWnciLCJmY3YiOiIzIiwiZWkiOiJVeTUyYUp5dkViYmR3TjRQdXFLYmNRIiwicWMiOiJDaGhzWVhSbGMzUWdibVYzY3lCcGJpQjBhR1VnZDI5eWJHUVFBREVBQUFDZ3o4M0JQMzBVdURZXyIsInF1ZXN0aW9uIjoiV2hhdCBhcmUgdGhlIHRvcCAxMCBoZWFkbGluZXMgdG9kYXk%2FIiwibGsiOiJjNU5TTHM5SUxGRklMRXBWS01rQTR2d0NCVU1EaFl6VXhKU2N6THpVWXFCQVNtSWxBQSIsImJzIjoiYzUyT093b0NNUlJGc1EwSWxrT3FCeXAtQ3cyajdXekJUckFRSXZOSUFzT0xKSUV3alV0eElTN0UxcTJvRV94MERyYVhjLTg5Yk05bVd5MERHQTlCSXdTSFZCcFNRQmc5R0dyQ2FGMVZBdGxZWk9lVG1QTnBiTjFnR3pabzlxWERoTnNqTEJlZ1VaYVZJWHhzMkZMV1JYYk54WkQzNDItVTdkamsyX2hnbEVJZjByMFAxdFhnak5JaC1WNmttUEp4Yk1rengxWWYyLWZieUw4MERBVjBKSU94Skt2VWZwc1YyYTByMWp5UGYzUjduVHMiLCJpZCI6ImZjX1V5NTJhSnl2RWJiZHdONFB1cUtiY1FfMiJ9'}, {'question': 'What is the biggest news story right now?', 'type': 'featured_snippet', 'snippet': None, 'title': 'Top News', 'link': 'https://www.usnews.com/news/top-news', 'list': ['New Trump Tariff Threats Rekindle Investor Concerns About Trade and Timelines. ... ', 'US FCC Approves Two T-Mobile Deals After Wireless Carrier Drops DEI Programs. ... ', 'Trump Blocks Acquisition of Equipment Supplier Jupiter Systems by Hong Kong Firm. ... ', 'US Senators Warn Nvidia CEO About Upcoming China Trip.'], 'displayed_link': 'https://www.usnews.com › news › top-news', 'source_logo': 'https://serpapi.com/searches/68762e52895d90ddd276d1f5/images/005abd773d04d1ae77e5386f55bdc4c77440d558622152088c47ad2f18f26f08.png', 'next_page_token': 'eyJvbnMiOiIxMDA0MSIsImZjIjoiRXFBQkNtSkJUR3QwWDNaSVdHSk1SbnBzVjJGMFpXVnVOWFpMWWtGelJFMU9hRW95TFZWNVRHVjRjaTFuU0V4ME56VldTRzg1UkhjNU4ydEhSbkZ1Um10R04xUllYM1IzT1Zoa1FXSlhSVTF3UmxWZmNUQTBNV3h1V1hsTk1sTjVUWG8wTmsweVVSSVdWWGsxTW1GS2VYWkZZbUprZDA0MFVIVnhTMkpqVVJvaVFVWk5RVWRIY25RemVYTkhNazlzWTFaTGIwaHJNVWQ2WmtZMmNIZGFjMk5oWnciLCJmY3YiOiIzIiwiZWkiOiJVeTUyYUp5dkViYmR3TjRQdXFLYmNRIiwicWMiOiJDaGhzWVhSbGMzUWdibVYzY3lCcGJpQjBhR1VnZDI5eWJHUVFBREVBQUFDZ3o4M0JQMzBVdURZXyIsInF1ZXN0aW9uIjoiV2hhdCBpcyB0aGUgYmlnZ2VzdCBuZXdzIHN0b3J5IHJpZ2h0IG5vdz8iLCJsayI6IkdpaDNhR0YwSUdseklIUm9aU0JpYVdkblpYTjBJRzVsZDNNZ2MzUnZjbmtnY21sbmFIUWdibTkzIiwiYnMiOiJjNTJPT3dvQ01SUkZzUTBJbGtPcUJ5cC1DdzJqN1d6QlRyQVFJdk5JQXNPTEpJRXdqVXR4SVM3RTFxMm9FX3gwRHJhWGMtODliTTltV3kwREdBOUJJd1NIVkJwU1FCZzlHR3JDYUYxVkF0bFlaT2VUbVBOcGJOMWdHelpvOXFYRGhOc2pMQmVnVVphVklYeHMyRkxXUlhiTnhaRDM0Mi1VN2RqazJfaGdsRUlmMHIwUDF0WGdqTkloLVY2a21QSnhiTWt6eDFZZjItZmJ5TDgwREFWMEpJT3hKS3ZVZnBzVjJhMHIxanlQZjNSN25UcyIsImlkIjoiZmNfVXk1MmFKeXZFYmJkd040UHVxS2JjUV8yIn0=', 'serpapi_link': 'https://serpapi.com/search.json?device=desktop&engine=google_related_questions&google_domain=google.com&next_page_token=eyJvbnMiOiIxMDA0MSIsImZjIjoiRXFBQkNtSkJUR3QwWDNaSVdHSk1SbnBzVjJGMFpXVnVOWFpMWWtGelJFMU9hRW95TFZWNVRHVjRjaTFuU0V4ME56VldTRzg1UkhjNU4ydEhSbkZ1Um10R04xUllYM1IzT1Zoa1FXSlhSVTF3UmxWZmNUQTBNV3h1V1hsTk1sTjVUWG8wTmsweVVSSVdWWGsxTW1GS2VYWkZZbUprZDA0MFVIVnhTMkpqVVJvaVFVWk5RVWRIY25RemVYTkhNazlzWTFaTGIwaHJNVWQ2WmtZMmNIZGFjMk5oWnciLCJmY3YiOiIzIiwiZWkiOiJVeTUyYUp5dkViYmR3TjRQdXFLYmNRIiwicWMiOiJDaGhzWVhSbGMzUWdibVYzY3lCcGJpQjBhR1VnZDI5eWJHUVFBREVBQUFDZ3o4M0JQMzBVdURZXyIsInF1ZXN0aW9uIjoiV2hhdCBpcyB0aGUgYmlnZ2VzdCBuZXdzIHN0b3J5IHJpZ2h0IG5vdz8iLCJsayI6IkdpaDNhR0YwSUdseklIUm9aU0JpYVdkblpYTjBJRzVsZDNNZ2MzUnZjbmtnY21sbmFIUWdibTkzIiwiYnMiOiJjNTJPT3dvQ01SUkZzUTBJbGtPcUJ5cC1DdzJqN1d6QlRyQVFJdk5JQXNPTEpJRXdqVXR4SVM3RTFxMm9FX3gwRHJhWGMtODliTTltV3kwREdBOUJJd1NIVkJwU1FCZzlHR3JDYUYxVkF0bFlaT2VUbVBOcGJOMWdHelpvOXFYRGhOc2pMQmVnVVphVklYeHMyRkxXUlhiTnhaRDM0Mi1VN2RqazJfaGdsRUlmMHIwUDF0WGdqTkloLVY2a21QSnhiTWt6eDFZZjItZmJ5TDgwREFWMEpJT3hKS3ZVZnBzVjJhMHIxanlQZjNSN25UcyIsImlkIjoiZmNfVXk1MmFKeXZFYmJkd040UHVxS2JjUV8yIn0%3D'}, {'question': \"What are today's top 10 international news headlines?\", 'type': 'featured_snippet', 'snippet': None, 'title': 'International News | Latest World News, Videos & Photos - ABC News', 'link': 'https://abcnews.go.com/International', 'list': ['LatestTexas flooding.', 'Trump tariffs.', 'North Korea.', 'Trump assassination attempt report.', 'ICE raid death.', 'Fireworks explosion.'], 'displayed_link': 'https://abcnews.go.com › International', 'source_logo': 'https://serpapi.com/searches/68762e52895d90ddd276d1f5/images/005abd773d04d1ae77e5386f55bdc4c76354efebe6d8af11edd0a1b2caa14874.png', 'next_page_token': 'eyJvbnMiOiIxMDA0MSIsImZjIjoiRXFBQkNtSkJUR3QwWDNaSVdHSk1SbnBzVjJGMFpXVnVOWFpMWWtGelJFMU9hRW95TFZWNVRHVjRjaTFuU0V4ME56VldTRzg1UkhjNU4ydEhSbkZ1Um10R04xUllYM1IzT1Zoa1FXSlhSVTF3UmxWZmNUQTBNV3h1V1hsTk1sTjVUWG8wTmsweVVSSVdWWGsxTW1GS2VYWkZZbUprZDA0MFVIVnhTMkpqVVJvaVFVWk5RVWRIY25RemVYTkhNazlzWTFaTGIwaHJNVWQ2WmtZMmNIZGFjMk5oWnciLCJmY3YiOiIzIiwiZWkiOiJVeTUyYUp5dkViYmR3TjRQdXFLYmNRIiwicWMiOiJDaGhzWVhSbGMzUWdibVYzY3lCcGJpQjBhR1VnZDI5eWJHUVFBREVBQUFDZ3o4M0JQMzBVdURZXyIsInF1ZXN0aW9uIjoiV2hhdCBhcmUgdG9kYXkncyB0b3AgMTAgaW50ZXJuYXRpb25hbCBuZXdzIGhlYWRsaW5lcz8iLCJsayI6IkdqUjNhR0YwSUdGeVpTQjBiMlJoZVNkeklIUnZjQ0F4TUNCcGJuUmxjbTVoZEdsdmJtRnNJRzVsZDNNZ2FHVmhaR3hwYm1WeiIsImJzIjoiYzUyT093b0NNUlJGc1EwSWxrT3FCeXAtQ3cyajdXekJUckFRSXZOSUFzT0xKSUV3alV0eElTN0UxcTJvRV94MERyYVhjLTg5Yk05bVd5MERHQTlCSXdTSFZCcFNRQmc5R0dyQ2FGMVZBdGxZWk9lVG1QTnBiTjFnR3pabzlxWERoTnNqTEJlZ1VaYVZJWHhzMkZMV1JYYk54WkQzNDItVTdkamsyX2hnbEVJZjByMFAxdFhnak5JaC1WNmttUEp4Yk1rengxWWYyLWZieUw4MERBVjBKSU94Skt2VWZwc1YyYTByMWp5UGYzUjduVHMiLCJpZCI6ImZjX1V5NTJhSnl2RWJiZHdONFB1cUtiY1FfMiJ9', 'serpapi_link': 'https://serpapi.com/search.json?device=desktop&engine=google_related_questions&google_domain=google.com&next_page_token=eyJvbnMiOiIxMDA0MSIsImZjIjoiRXFBQkNtSkJUR3QwWDNaSVdHSk1SbnBzVjJGMFpXVnVOWFpMWWtGelJFMU9hRW95TFZWNVRHVjRjaTFuU0V4ME56VldTRzg1UkhjNU4ydEhSbkZ1Um10R04xUllYM1IzT1Zoa1FXSlhSVTF3UmxWZmNUQTBNV3h1V1hsTk1sTjVUWG8wTmsweVVSSVdWWGsxTW1GS2VYWkZZbUprZDA0MFVIVnhTMkpqVVJvaVFVWk5RVWRIY25RemVYTkhNazlzWTFaTGIwaHJNVWQ2WmtZMmNIZGFjMk5oWnciLCJmY3YiOiIzIiwiZWkiOiJVeTUyYUp5dkViYmR3TjRQdXFLYmNRIiwicWMiOiJDaGhzWVhSbGMzUWdibVYzY3lCcGJpQjBhR1VnZDI5eWJHUVFBREVBQUFDZ3o4M0JQMzBVdURZXyIsInF1ZXN0aW9uIjoiV2hhdCBhcmUgdG9kYXkncyB0b3AgMTAgaW50ZXJuYXRpb25hbCBuZXdzIGhlYWRsaW5lcz8iLCJsayI6IkdqUjNhR0YwSUdGeVpTQjBiMlJoZVNkeklIUnZjQ0F4TUNCcGJuUmxjbTVoZEdsdmJtRnNJRzVsZDNNZ2FHVmhaR3hwYm1WeiIsImJzIjoiYzUyT093b0NNUlJGc1EwSWxrT3FCeXAtQ3cyajdXekJUckFRSXZOSUFzT0xKSUV3alV0eElTN0UxcTJvRV94MERyYVhjLTg5Yk05bVd5MERHQTlCSXdTSFZCcFNRQmc5R0dyQ2FGMVZBdGxZWk9lVG1QTnBiTjFnR3pabzlxWERoTnNqTEJlZ1VaYVZJWHhzMkZMV1JYYk54WkQzNDItVTdkamsyX2hnbEVJZjByMFAxdFhnak5JaC1WNmttUEp4Yk1rengxWWYyLWZieUw4MERBVjBKSU94Skt2VWZwc1YyYTByMWp5UGYzUjduVHMiLCJpZCI6ImZjX1V5NTJhSnl2RWJiZHdONFB1cUtiY1FfMiJ9'}], 'ai_overview': {'page_token': 'FZsHVXicxZTbjrJIEIBv90XWmxkFPIwyCdl0Izp4BAfHGW8IAjYHEaVR5L_bd9mn2qfZbhBl_DXZzW6yndA0XYeurvqo3__YuFv_z19iJ453-JVhkiSpoTBEG7tmhgFj4HRrMutwgyPT-S09Co2KiQW2YrvCPG3VjUF6lFYrK5k0lcN-uDLVSmYh6CsD2x5xePIwozNk8n9tdMlHDdfsbe2kpFhtIDNqs7U6y3VqU8YIiAL4V0O8vyWTGQGpvKfeM5cBFVBtWGwh8lwMZQipMVGAVABLTpAsnR0A8C4Bsano1WXZNyoWvdIagAMNR0R9IEuSBG6G-m1BncOzh9uov5tM8zUEj8bgGgG9LdASkBQbTTo5dDJlbVYyaoFuYiei1IN3kke2hsgL1LXff3AmBKIvaUbCknwyFiK1ZplVRF4cE2FaeVHj2bC_aY8bveVE9WYTvQqQAT4O6agleh5OnjOmTHyBCpehUpbVEdsM9r3Er41qkLsQBWkiBmc0vvI7q2B3k7ifL5TdUrzJ5NlGJgmUXNQF40zKytRlmAu7L0A1mqJcLmeZKOQgkHNGxmCk5l6djCiynsn0zH4GrCrKlDriCblUezbPVPxLUGNQBX0JUr7PeZ9kpaVEAUlCZ0X5_RpITp9KDx0jEEOiCHuquHhzTkWMTmakno2HJJCpTMlH2TcSbWLcyb3M8vSi3DS7sgxFeoxZcCp9UaFGYhVviEIAln6Fh4X46b8opfUeQvZ0fByvP96qxintKgvkGUNe9fgVxxUIhcHqHzQm83-ALGtbSAS-618gGz6A7F7bIpBJBWQyhSxrW07Rti6QyVfI3iXkZm2rDBlFIYOsB4F7hazctgoaL5CpfwuyHShBppYggw8hy9vWFTItMZMCsib1--MOZP9p28pYs_PX9x528NAtiJJ-4N4W3CESo1AMqy3wGfGnmZwmuxg86-sgft1FIXrWXesV1gdxalX2wsaIbRw_be0EP7nbp9ixn5Iw2liVYBOFAmu0seL7_BjWJylvRRPd1AeKoyk4dnlOcaS3sfXpvnQUTV80nE1cB3Cq_ZD6xy_-xO38_ie_Rfv2KLXfWotR2kqDl04d9uuWO_TahlcNJx_z5bspd9fscW625dlRN8Joa33tw7Y27MzqH90ud9i-zLNosLBbLVV30I8UvVMJDAvbAlcJIlMg9W_6YFzBpqHb-Ciw68a6YfGcVbftNmuwlQDF6U5ocn8BE9F03A', 'serpapi_link': 'https://serpapi.com/search.json?engine=google_ai_overview&page_token=FZsHVXicxZTbjrJIEIBv90XWmxkFPIwyCdl0Izp4BAfHGW8IAjYHEaVR5L_bd9mn2qfZbhBl_DXZzW6yndA0XYeurvqo3__YuFv_z19iJ453-JVhkiSpoTBEG7tmhgFj4HRrMutwgyPT-S09Co2KiQW2YrvCPG3VjUF6lFYrK5k0lcN-uDLVSmYh6CsD2x5xePIwozNk8n9tdMlHDdfsbe2kpFhtIDNqs7U6y3VqU8YIiAL4V0O8vyWTGQGpvKfeM5cBFVBtWGwh8lwMZQipMVGAVABLTpAsnR0A8C4Bsano1WXZNyoWvdIagAMNR0R9IEuSBG6G-m1BncOzh9uov5tM8zUEj8bgGgG9LdASkBQbTTo5dDJlbVYyaoFuYiei1IN3kke2hsgL1LXff3AmBKIvaUbCknwyFiK1ZplVRF4cE2FaeVHj2bC_aY8bveVE9WYTvQqQAT4O6agleh5OnjOmTHyBCpehUpbVEdsM9r3Er41qkLsQBWkiBmc0vvI7q2B3k7ifL5TdUrzJ5NlGJgmUXNQF40zKytRlmAu7L0A1mqJcLmeZKOQgkHNGxmCk5l6djCiynsn0zH4GrCrKlDriCblUezbPVPxLUGNQBX0JUr7PeZ9kpaVEAUlCZ0X5_RpITp9KDx0jEEOiCHuquHhzTkWMTmakno2HJJCpTMlH2TcSbWLcyb3M8vSi3DS7sgxFeoxZcCp9UaFGYhVviEIAln6Fh4X46b8opfUeQvZ0fByvP96qxintKgvkGUNe9fgVxxUIhcHqHzQm83-ALGtbSAS-618gGz6A7F7bIpBJBWQyhSxrW07Rti6QyVfI3iXkZm2rDBlFIYOsB4F7hazctgoaL5CpfwuyHShBppYggw8hy9vWFTItMZMCsib1--MOZP9p28pYs_PX9x528NAtiJJ-4N4W3CESo1AMqy3wGfGnmZwmuxg86-sgft1FIXrWXesV1gdxalX2wsaIbRw_be0EP7nbp9ixn5Iw2liVYBOFAmu0seL7_BjWJylvRRPd1AeKoyk4dnlOcaS3sfXpvnQUTV80nE1cB3Cq_ZD6xy_-xO38_ie_Rfv2KLXfWotR2kqDl04d9uuWO_TahlcNJx_z5bspd9fscW625dlRN8Joa33tw7Y27MzqH90ud9i-zLNosLBbLVV30I8UvVMJDAvbAlcJIlMg9W_6YFzBpqHb-Ciw68a6YfGcVbftNmuwlQDF6U5ocn8BE9F03A'}, 'organic_results': [{'position': 1, 'title': 'World | Latest News & Updates', 'link': 'https://www.bbc.com/news/world', 'redirect_link': 'https://www.google.com/url?sa=t&source=web&rct=j&opi=89978449&url=https://www.bbc.com/news/world&ved=2ahUKEwjcpPni1L6OAxW2LtAFHTrRJg4QFnoECFMQAQ', 'displayed_link': 'https://www.bbc.com › news › world', 'favicon': 'https://serpapi.com/searches/68762e52895d90ddd276d1f5/images/a1e5f2d48cb5e598291b88bdfff01798cff16e6d023b0c62d12765cd24da488e.png', 'snippet': 'Get all the latest news, live updates and content about the World from across the BBC.', 'snippet_highlighted_words': ['latest news', 'World'], 'sitelinks': {'inline': [{'title': 'BBC World', 'link': 'https://www.bbc.com/news/world_radio_and_tv'}, {'title': 'Middle East', 'link': 'https://www.bbc.com/news/world/middle_east'}, {'title': 'Europe', 'link': 'https://www.bbc.com/news/world/europe'}, {'title': 'Africa', 'link': 'https://www.bbc.com/news/world/africa'}]}, 'source': 'BBC'}, {'position': 2, 'title': 'World news - breaking news, video, headlines and opinion', 'link': 'https://www.cnn.com/world', 'redirect_link': 'https://www.google.com/url?sa=t&source=web&rct=j&opi=89978449&url=https://www.cnn.com/world&ved=2ahUKEwjcpPni1L6OAxW2LtAFHTrRJg4QFnoECCgQAQ', 'displayed_link': 'https://www.cnn.com › world', 'favicon': 'https://serpapi.com/searches/68762e52895d90ddd276d1f5/images/a1e5f2d48cb5e598291b88bdfff0179824154abd8473996c73264a5fae32e530.png', 'snippet': 'View CNN world news today for international news and videos from Europe, Asia, Africa, the Middle East and the Americas.', 'snippet_highlighted_words': ['world news', 'news'], 'source': 'CNN'}, {'position': 3, 'title': 'World news', 'link': 'https://www.cbsnews.com/world/', 'redirect_link': 'https://www.google.com/url?sa=t&source=web&rct=j&opi=89978449&url=https://www.cbsnews.com/world/&ved=2ahUKEwjcpPni1L6OAxW2LtAFHTrRJg4QFnoECFQQAQ', 'displayed_link': 'https://www.cbsnews.com › World', 'favicon': 'https://serpapi.com/searches/68762e52895d90ddd276d1f5/images/a1e5f2d48cb5e598291b88bdfff01798ac84368b0b93492f9b036da37cd34117.png', 'snippet': 'World · Nvidia says Trump admin. · Trump administration imposes 17% tariff on fresh Mexican tomatoes · Aristocrat and her partner found guilty over baby ...', 'snippet_highlighted_words': ['Trump administration imposes 17% tariff on fresh Mexican tomatoes'], 'source': 'CBS News'}, {'position': 4, 'title': 'Breaking News, World News and Video from Al Jazeera', 'link': 'https://www.aljazeera.com/', 'redirect_link': 'https://www.google.com/url?sa=t&source=web&rct=j&opi=89978449&url=https://www.aljazeera.com/&ved=2ahUKEwjcpPni1L6OAxW2LtAFHTrRJg4QFnoECC4QAQ', 'displayed_link': 'https://www.aljazeera.com', 'favicon': 'https://serpapi.com/searches/68762e52895d90ddd276d1f5/images/a1e5f2d48cb5e598291b88bdfff01798eca50e721d755ae60db04720906526cb.png', 'date': '5 hours ago', 'snippet': \"Al Jazeera · Cricket: England win dramatic Lord's Test against India by 22 runs · Chelsea trounce PSG to lift FIFA Club World Cup · Revenge is ...\", 'snippet_highlighted_words': [\"Cricket: England win dramatic Lord's Test against India by 22 runs\"], 'sitelinks': {'inline': [{'title': 'News', 'link': 'https://www.aljazeera.com/news/'}, {'title': 'US & Canada News', 'link': 'https://www.aljazeera.com/us-canada/'}, {'title': 'Live', 'link': 'https://www.aljazeera.com/live'}, {'title': 'Africa News', 'link': 'https://www.aljazeera.com/africa/'}]}, 'source': 'Al Jazeera'}, {'position': 5, 'title': 'World News | Latest Top Stories', 'link': 'https://www.reuters.com/world/', 'redirect_link': 'https://www.google.com/url?sa=t&source=web&rct=j&opi=89978449&url=https://www.reuters.com/world/&ved=2ahUKEwjcpPni1L6OAxW2LtAFHTrRJg4QFnoECCsQAQ', 'displayed_link': 'https://www.reuters.com › world', 'favicon': 'https://serpapi.com/searches/68762e52895d90ddd276d1f5/images/a1e5f2d48cb5e598291b88bdfff01798de4d44098c05bb33b094d324f3d4563e.png', 'snippet': 'Reuters.com is your online source for the latest world news stories and current events, ensuring our readers up to date with any breaking news developments.', 'snippet_highlighted_words': ['Reuters.com is your online source for the latest world news stories'], 'source': 'Reuters'}, {'position': 6, 'title': 'World News Today: International News Headlines', 'link': 'https://www.thehindu.com/news/international/', 'redirect_link': 'https://www.google.com/url?sa=t&source=web&rct=j&opi=89978449&url=https://www.thehindu.com/news/international/&ved=2ahUKEwjcpPni1L6OAxW2LtAFHTrRJg4QFnoECC8QAQ', 'displayed_link': 'https://www.thehindu.com › news › international', 'favicon': 'https://serpapi.com/searches/68762e52895d90ddd276d1f5/images/a1e5f2d48cb5e598291b88bdfff017982ec7e93b5df255ee4f8469eace0e1e4d.png', 'snippet': 'Around The Globe · Magnitude 5.8 earthquake strikes Luzon, Philippines, GFZ says · End Ukraine war or face 100% tariffs: Trump tells Russia to make Ukraine deal.', 'snippet_highlighted_words': ['Magnitude 5.8 earthquake strikes Luzon, Philippines'], 'sitelinks': {'inline': [{'title': 'World leaders react to Trump...', 'link': 'https://www.thehindu.com/news/international/world-leaders-react-to-trump-tariff-canada-to-impose-counter-measures-on-us-says-pm-mark-carney/article69405922.ece'}, {'title': 'World Bank President Ajay...', 'link': 'https://www.thehindu.com/news/international/no-role-to-play-beyond-facilitator-world-bank-president-ajay-banga-on-indus-water-treaty/article69557007.ece'}, {'title': 'U.S. Elections', 'link': 'https://www.thehindu.com/news/international/us-elections/'}]}, 'rich_snippet': {'top': {'detected_extensions': {'rating': 4.5, 'reviews': 322000}, 'extensions': ['4.5(322,000)']}}, 'source': 'The Hindu'}, {'position': 7, 'title': 'Latest news from around the world', 'link': 'https://www.theguardian.com/world', 'redirect_link': 'https://www.google.com/url?sa=t&source=web&rct=j&opi=89978449&url=https://www.theguardian.com/world&ved=2ahUKEwjcpPni1L6OAxW2LtAFHTrRJg4QFnoECDAQAQ', 'displayed_link': 'https://www.theguardian.com › world', 'favicon': 'https://serpapi.com/searches/68762e52895d90ddd276d1f5/images/a1e5f2d48cb5e598291b88bdfff0179837cd0be858cc2356d001ec913a18fba2.png', 'snippet': \"Middle East · UN's Albanese hails 30-nation meeting aimed at ending Israeli occupation of Palestine · Israel attacks Syrian military amid deadly clashes between ...\", 'snippet_highlighted_words': [\"UN's Albanese hails 30-nation meeting aimed at ending Israeli occupation of Palestine\"], 'sitelinks': {'inline': [{'title': 'Europe', 'link': 'https://www.theguardian.com/world/europe-news'}, {'title': 'Americas', 'link': 'https://www.theguardian.com/world/americas'}, {'title': 'Asia', 'link': 'https://www.theguardian.com/world/asia'}, {'title': 'US', 'link': 'https://www.theguardian.com/us-news'}]}, 'source': 'The Guardian'}, {'position': 8, 'title': 'World News: Latest International Headlines, Video, and ...', 'link': 'https://www.nbcnews.com/world', 'redirect_link': 'https://www.google.com/url?sa=t&source=web&rct=j&opi=89978449&url=https://www.nbcnews.com/world&ved=2ahUKEwjcpPni1L6OAxW2LtAFHTrRJg4QFnoECCwQAQ', 'displayed_link': 'https://www.nbcnews.com › world', 'favicon': 'https://serpapi.com/searches/68762e52895d90ddd276d1f5/images/a1e5f2d48cb5e598291b88bdfff01798b5d03732aab24a2b17cbe61268f38999.png', 'snippet': 'More than 70 arrested at U.K. protests in support of banned group Palestine Action. The British government has called the group a terrorist organization ...', 'snippet_highlighted_words': ['More than 70 arrested at U.K. protests'], 'source': 'NBC News'}], 'top_stories': [{'title': 'Israel attacks Syrian military amid deadly clashes between Druze and Bedouin clans', 'link': 'https://www.theguardian.com/world/2025/jul/15/israel-attacks-syrian-military-amid-deadly-clashes-between-druze-and-bedouin-clans', 'source': 'The Guardian', 'source_logo': 'https://serpapi.com/searches/68762e52895d90ddd276d1f5/images/a5bb2cfc859c037ab5d473b598f1b255c3e96cf6d7728e1c4d2f818c2c4ab388.png', 'date': '1 hour ago', 'thumbnail': 'https://serpapi.com/searches/68762e52895d90ddd276d1f5/images/a5bb2cfc859c037a20b746e879cdec3c3a50ed0919c32a01.jpeg'}, {'title': 'Australia hosts largest-ever military war games', 'link': 'https://www.aljazeera.com/gallery/2025/7/14/australia-hosts-largest-ever-military-war-games', 'source': 'Al Jazeera', 'source_logo': 'https://serpapi.com/searches/68762e52895d90ddd276d1f5/images/a5bb2cfc859c037adaebeb36cc69e0a920d0aa11f9edb708947ffc8089bfeab0.png', 'date': '1 day ago', 'thumbnail': 'https://serpapi.com/searches/68762e52895d90ddd276d1f5/images/a5bb2cfc859c037a5c8da28cce28926d4caf76d5b1e830a1.jpeg'}, {'title': 'Australian Premier Albanese Meets China’s Xi in Beijing', 'link': 'https://www.nytimes.com/2025/07/15/world/asia/china-australia-trade-security.html', 'source': 'The New York Times', 'source_logo': 'https://serpapi.com/searches/68762e52895d90ddd276d1f5/images/a5bb2cfc859c037a4ecb0f637888b51a1070b18e08ca89007c1c350c01ac0dda.png', 'date': '4 hours ago', 'thumbnail': 'https://serpapi.com/searches/68762e52895d90ddd276d1f5/images/a5bb2cfc859c037adaf18430a0e0e4fbab62a31806dfa9fb.jpeg'}, {'title': 'SpaceX spacecraft carrying crew to splash down with sonic boom off San Diego coast', 'link': 'https://fox5sandiego.com/news/local-news/spacex-spacecraft-carrying-crew-to-splash-down-with-sonic-boom-off-san-diego-coast/', 'source': 'FOX 5 San Diego & KUSI News', 'source_logo': 'https://serpapi.com/searches/68762e52895d90ddd276d1f5/images/a5bb2cfc859c037a66225cf6e400062e18670a7bd703083d7b91fd4fa7a6e0ee.png', 'date': '9 hours ago', 'thumbnail': 'https://serpapi.com/searches/68762e52895d90ddd276d1f5/images/a5bb2cfc859c037a6f4aa50e813061aa271e7f7e719c77a9.png'}, {'title': 'Boeing, FAA say fuel switches are safe after preliminary Air India crash report', 'link': 'https://www.usatoday.com/story/travel/airline-news/2025/07/14/boeing-faa-air-india-crash-fuel-switch-safety/85191297007/', 'source': 'USA Today', 'source_logo': 'https://serpapi.com/searches/68762e52895d90ddd276d1f5/images/a5bb2cfc859c037a21db517273ba2596a47c505118f9a63e8978a6383d61388e.png', 'date': '19 hours ago', 'thumbnail': 'https://serpapi.com/searches/68762e52895d90ddd276d1f5/images/a5bb2cfc859c037aaab91d314be7b99a46620702a3ba6227.jpeg'}, {'title': \"Gaza father's outrage after Israeli strike kills son 'searching for a sip'\", 'link': 'https://www.bbc.com/news/articles/ckglpk9xjewo', 'source': 'BBC', 'source_logo': 'https://serpapi.com/searches/68762e52895d90ddd276d1f5/images/a5bb2cfc859c037a2af09a1816b3d09aceaebe8c013af26c7200c22cf91630e4.png', 'date': '14 hours ago', 'thumbnail': 'https://serpapi.com/searches/68762e52895d90ddd276d1f5/images/a5bb2cfc859c037acc92baff92f2c48b8e35b6dc9968c0f4.jpeg'}], 'top_stories_link': 'https://www.google.com/search?sca_esv=0f3f3d91d2ee70a0&udm=7&q=latest+news+in+the+world&sa=X&ved=2ahUKEwjcpPni1L6OAxW2LtAFHTrRJg4Q8ccDKAR6BAhOEAY', 'top_stories_serpapi_link': 'https://serpapi.com/search.json?device=desktop&engine=google&google_domain=google.com&q=latest+news+in+the+world', 'related_searches': [{'block_position': 1, 'query': 'Breaking news today', 'link': 'https://www.google.com/search?sca_esv=0f3f3d91d2ee70a0&q=Breaking+news+today&sa=X&ved=2ahUKEwjcpPni1L6OAxW2LtAFHTrRJg4Q1QJ6BAgxEAE', 'serpapi_link': 'https://serpapi.com/search.json?device=desktop&engine=google&google_domain=google.com&q=Breaking+news+today'}, {'block_position': 1, 'query': 'Latest news in the world cnn', 'link': 'https://www.google.com/search?sca_esv=0f3f3d91d2ee70a0&q=Latest+news+in+the+world+cnn&sa=X&ved=2ahUKEwjcpPni1L6OAxW2LtAFHTrRJg4Q1QJ6BAgtEAE', 'serpapi_link': 'https://serpapi.com/search.json?device=desktop&engine=google&google_domain=google.com&q=Latest+news+in+the+world+cnn'}, {'block_position': 1, 'query': 'Latest news in the world live', 'link': 'https://www.google.com/search?sca_esv=0f3f3d91d2ee70a0&q=Latest+news+in+the+world+live&sa=X&ved=2ahUKEwjcpPni1L6OAxW2LtAFHTrRJg4Q1QJ6BAgqEAE', 'serpapi_link': 'https://serpapi.com/search.json?device=desktop&engine=google&google_domain=google.com&q=Latest+news+in+the+world+live'}, {'block_position': 1, 'query': 'World news today headlines', 'link': 'https://www.google.com/search?sca_esv=0f3f3d91d2ee70a0&q=World+news+today+headlines&sa=X&ved=2ahUKEwjcpPni1L6OAxW2LtAFHTrRJg4Q1QJ6BAglEAE', 'serpapi_link': 'https://serpapi.com/search.json?device=desktop&engine=google&google_domain=google.com&q=World+news+today+headlines'}, {'block_position': 1, 'query': 'Bbc world news', 'link': 'https://www.google.com/search?sca_esv=0f3f3d91d2ee70a0&q=Bbc+world+news&sa=X&ved=2ahUKEwjcpPni1L6OAxW2LtAFHTrRJg4Q1QJ6BAgkEAE', 'serpapi_link': 'https://serpapi.com/search.json?device=desktop&engine=google&google_domain=google.com&q=Bbc+world+news'}, {'block_position': 1, 'query': 'Fox News', 'link': 'https://www.google.com/search?sca_esv=0f3f3d91d2ee70a0&q=Fox+News&sa=X&ved=2ahUKEwjcpPni1L6OAxW2LtAFHTrRJg4Q1QJ6BAgjEAE', 'serpapi_link': 'https://serpapi.com/search.json?device=desktop&engine=google&google_domain=google.com&q=Fox+News'}, {'block_position': 1, 'query': 'World news al jazeera', 'link': 'https://www.google.com/search?sca_esv=0f3f3d91d2ee70a0&q=World+news+al+jazeera&sa=X&ved=2ahUKEwjcpPni1L6OAxW2LtAFHTrRJg4Q1QJ6BAghEAE', 'serpapi_link': 'https://serpapi.com/search.json?device=desktop&engine=google&google_domain=google.com&q=World+news+al+jazeera'}, {'block_position': 1, 'query': 'Bbc news', 'link': 'https://www.google.com/search?sca_esv=0f3f3d91d2ee70a0&q=Bbc+news&sa=X&ved=2ahUKEwjcpPni1L6OAxW2LtAFHTrRJg4Q1QJ6BAggEAE', 'serpapi_link': 'https://serpapi.com/search.json?device=desktop&engine=google&google_domain=google.com&q=Bbc+news'}], 'pagination': {'current': 1, 'next': 'https://www.google.com/search?q=latest+news+in+the+world&sca_esv=0f3f3d91d2ee70a0&ei=Uy52aJyvEbbdwN4PuqKbcQ&start=10&sa=N&sstk=Ac65TH6_VdvV4a92zLcaEGRsVJjbNj0-fpgEa_xaq8U_G3_hhuifGGp3MXmcIPHY8ahBQ__2Zztwu2DAD23-BacpzU0H6oj6z97Iag&ved=2ahUKEwjcpPni1L6OAxW2LtAFHTrRJg4Q8NMDegQIDBAW', 'other_pages': {'2': 'https://www.google.com/search?q=latest+news+in+the+world&sca_esv=0f3f3d91d2ee70a0&ei=Uy52aJyvEbbdwN4PuqKbcQ&start=10&sa=N&sstk=Ac65TH6_VdvV4a92zLcaEGRsVJjbNj0-fpgEa_xaq8U_G3_hhuifGGp3MXmcIPHY8ahBQ__2Zztwu2DAD23-BacpzU0H6oj6z97Iag&ved=2ahUKEwjcpPni1L6OAxW2LtAFHTrRJg4Q8tMDegQIDBAE', '3': 'https://www.google.com/search?q=latest+news+in+the+world&sca_esv=0f3f3d91d2ee70a0&ei=Uy52aJyvEbbdwN4PuqKbcQ&start=20&sa=N&sstk=Ac65TH6_VdvV4a92zLcaEGRsVJjbNj0-fpgEa_xaq8U_G3_hhuifGGp3MXmcIPHY8ahBQ__2Zztwu2DAD23-BacpzU0H6oj6z97Iag&ved=2ahUKEwjcpPni1L6OAxW2LtAFHTrRJg4Q8tMDegQIDBAG', '4': 'https://www.google.com/search?q=latest+news+in+the+world&sca_esv=0f3f3d91d2ee70a0&ei=Uy52aJyvEbbdwN4PuqKbcQ&start=30&sa=N&sstk=Ac65TH6_VdvV4a92zLcaEGRsVJjbNj0-fpgEa_xaq8U_G3_hhuifGGp3MXmcIPHY8ahBQ__2Zztwu2DAD23-BacpzU0H6oj6z97Iag&ved=2ahUKEwjcpPni1L6OAxW2LtAFHTrRJg4Q8tMDegQIDBAI', '5': 'https://www.google.com/search?q=latest+news+in+the+world&sca_esv=0f3f3d91d2ee70a0&ei=Uy52aJyvEbbdwN4PuqKbcQ&start=40&sa=N&sstk=Ac65TH6_VdvV4a92zLcaEGRsVJjbNj0-fpgEa_xaq8U_G3_hhuifGGp3MXmcIPHY8ahBQ__2Zztwu2DAD23-BacpzU0H6oj6z97Iag&ved=2ahUKEwjcpPni1L6OAxW2LtAFHTrRJg4Q8tMDegQIDBAK', '6': 'https://www.google.com/search?q=latest+news+in+the+world&sca_esv=0f3f3d91d2ee70a0&ei=Uy52aJyvEbbdwN4PuqKbcQ&start=50&sa=N&sstk=Ac65TH6_VdvV4a92zLcaEGRsVJjbNj0-fpgEa_xaq8U_G3_hhuifGGp3MXmcIPHY8ahBQ__2Zztwu2DAD23-BacpzU0H6oj6z97Iag&ved=2ahUKEwjcpPni1L6OAxW2LtAFHTrRJg4Q8tMDegQIDBAM', '7': 'https://www.google.com/search?q=latest+news+in+the+world&sca_esv=0f3f3d91d2ee70a0&ei=Uy52aJyvEbbdwN4PuqKbcQ&start=60&sa=N&sstk=Ac65TH6_VdvV4a92zLcaEGRsVJjbNj0-fpgEa_xaq8U_G3_hhuifGGp3MXmcIPHY8ahBQ__2Zztwu2DAD23-BacpzU0H6oj6z97Iag&ved=2ahUKEwjcpPni1L6OAxW2LtAFHTrRJg4Q8tMDegQIDBAO', '8': 'https://www.google.com/search?q=latest+news+in+the+world&sca_esv=0f3f3d91d2ee70a0&ei=Uy52aJyvEbbdwN4PuqKbcQ&start=70&sa=N&sstk=Ac65TH6_VdvV4a92zLcaEGRsVJjbNj0-fpgEa_xaq8U_G3_hhuifGGp3MXmcIPHY8ahBQ__2Zztwu2DAD23-BacpzU0H6oj6z97Iag&ved=2ahUKEwjcpPni1L6OAxW2LtAFHTrRJg4Q8tMDegQIDBAQ', '9': 'https://www.google.com/search?q=latest+news+in+the+world&sca_esv=0f3f3d91d2ee70a0&ei=Uy52aJyvEbbdwN4PuqKbcQ&start=80&sa=N&sstk=Ac65TH6_VdvV4a92zLcaEGRsVJjbNj0-fpgEa_xaq8U_G3_hhuifGGp3MXmcIPHY8ahBQ__2Zztwu2DAD23-BacpzU0H6oj6z97Iag&ved=2ahUKEwjcpPni1L6OAxW2LtAFHTrRJg4Q8tMDegQIDBAS', '10': 'https://www.google.com/search?q=latest+news+in+the+world&sca_esv=0f3f3d91d2ee70a0&ei=Uy52aJyvEbbdwN4PuqKbcQ&start=90&sa=N&sstk=Ac65TH6_VdvV4a92zLcaEGRsVJjbNj0-fpgEa_xaq8U_G3_hhuifGGp3MXmcIPHY8ahBQ__2Zztwu2DAD23-BacpzU0H6oj6z97Iag&ved=2ahUKEwjcpPni1L6OAxW2LtAFHTrRJg4Q8tMDegQIDBAU'}}, 'serpapi_pagination': {'current': 1, 'next_link': 'https://serpapi.com/search.json?device=desktop&engine=google&google_domain=google.com&q=latest+news+in+the+world&start=10', 'next': 'https://serpapi.com/search.json?device=desktop&engine=google&google_domain=google.com&q=latest+news+in+the+world&start=10', 'other_pages': {'2': 'https://serpapi.com/search.json?device=desktop&engine=google&google_domain=google.com&q=latest+news+in+the+world&start=10', '3': 'https://serpapi.com/search.json?device=desktop&engine=google&google_domain=google.com&q=latest+news+in+the+world&start=20', '4': 'https://serpapi.com/search.json?device=desktop&engine=google&google_domain=google.com&q=latest+news+in+the+world&start=30', '5': 'https://serpapi.com/search.json?device=desktop&engine=google&google_domain=google.com&q=latest+news+in+the+world&start=40', '6': 'https://serpapi.com/search.json?device=desktop&engine=google&google_domain=google.com&q=latest+news+in+the+world&start=50', '7': 'https://serpapi.com/search.json?device=desktop&engine=google&google_domain=google.com&q=latest+news+in+the+world&start=60', '8': 'https://serpapi.com/search.json?device=desktop&engine=google&google_domain=google.com&q=latest+news+in+the+world&start=70', '9': 'https://serpapi.com/search.json?device=desktop&engine=google&google_domain=google.com&q=latest+news+in+the+world&start=80', '10': 'https://serpapi.com/search.json?device=desktop&engine=google&google_domain=google.com&q=latest+news+in+the+world&start=90'}}}\n"
     ]
    }
   ],
   "source": [
    "from serpapi import GoogleSearch\n",
    "from getpass import getpass\n",
    "\n",
    "SERPAPI_API_KEY = getpass(\"Enter your SerpAPI API key: \")\n",
    "\n",
    "params = {\n",
    "    \"api_key\": SERPAPI_API_KEY,\n",
    "    \"engine\": \"google\",\n",
    "    \"q\": \"latest news in the world\",\n",
    "}\n",
    "\n",
    "search = GoogleSearch(params)\n",
    "results = search.get_dict() #这一行表明是同步的，内部会调用类似requests.get()\n",
    "\n",
    "print(results)"
   ]
  },
  {
   "cell_type": "markdown",
   "metadata": {},
   "source": [
    "Our results are provided in the `\"organic_results\"` key:"
   ]
  },
  {
   "cell_type": "code",
   "execution_count": 2,
   "metadata": {},
   "outputs": [
    {
     "data": {
      "text/plain": [
       "[{'position': 1,\n",
       "  'title': 'World | Latest News & Updates',\n",
       "  'link': 'https://www.bbc.com/news/world',\n",
       "  'redirect_link': 'https://www.google.com/url?sa=t&source=web&rct=j&opi=89978449&url=https://www.bbc.com/news/world&ved=2ahUKEwjcpPni1L6OAxW2LtAFHTrRJg4QFnoECFMQAQ',\n",
       "  'displayed_link': 'https://www.bbc.com › news › world',\n",
       "  'favicon': 'https://serpapi.com/searches/68762e52895d90ddd276d1f5/images/a1e5f2d48cb5e598291b88bdfff01798cff16e6d023b0c62d12765cd24da488e.png',\n",
       "  'snippet': 'Get all the latest news, live updates and content about the World from across the BBC.',\n",
       "  'snippet_highlighted_words': ['latest news', 'World'],\n",
       "  'sitelinks': {'inline': [{'title': 'BBC World', 'link': 'https://www.bbc.com/news/world_radio_and_tv'},\n",
       "    {'title': 'Middle East', 'link': 'https://www.bbc.com/news/world/middle_east'},\n",
       "    {'title': 'Europe', 'link': 'https://www.bbc.com/news/world/europe'},\n",
       "    {'title': 'Africa', 'link': 'https://www.bbc.com/news/world/africa'}]},\n",
       "  'source': 'BBC'},\n",
       " {'position': 2,\n",
       "  'title': 'World news - breaking news, video, headlines and opinion',\n",
       "  'link': 'https://www.cnn.com/world',\n",
       "  'redirect_link': 'https://www.google.com/url?sa=t&source=web&rct=j&opi=89978449&url=https://www.cnn.com/world&ved=2ahUKEwjcpPni1L6OAxW2LtAFHTrRJg4QFnoECCgQAQ',\n",
       "  'displayed_link': 'https://www.cnn.com › world',\n",
       "  'favicon': 'https://serpapi.com/searches/68762e52895d90ddd276d1f5/images/a1e5f2d48cb5e598291b88bdfff0179824154abd8473996c73264a5fae32e530.png',\n",
       "  'snippet': 'View CNN world news today for international news and videos from Europe, Asia, Africa, the Middle East and the Americas.',\n",
       "  'snippet_highlighted_words': ['world news', 'news'],\n",
       "  'source': 'CNN'},\n",
       " {'position': 3,\n",
       "  'title': 'World news',\n",
       "  'link': 'https://www.cbsnews.com/world/',\n",
       "  'redirect_link': 'https://www.google.com/url?sa=t&source=web&rct=j&opi=89978449&url=https://www.cbsnews.com/world/&ved=2ahUKEwjcpPni1L6OAxW2LtAFHTrRJg4QFnoECFQQAQ',\n",
       "  'displayed_link': 'https://www.cbsnews.com › World',\n",
       "  'favicon': 'https://serpapi.com/searches/68762e52895d90ddd276d1f5/images/a1e5f2d48cb5e598291b88bdfff01798ac84368b0b93492f9b036da37cd34117.png',\n",
       "  'snippet': 'World · Nvidia says Trump admin. · Trump administration imposes 17% tariff on fresh Mexican tomatoes · Aristocrat and her partner found guilty over baby ...',\n",
       "  'snippet_highlighted_words': ['Trump administration imposes 17% tariff on fresh Mexican tomatoes'],\n",
       "  'source': 'CBS News'},\n",
       " {'position': 4,\n",
       "  'title': 'Breaking News, World News and Video from Al Jazeera',\n",
       "  'link': 'https://www.aljazeera.com/',\n",
       "  'redirect_link': 'https://www.google.com/url?sa=t&source=web&rct=j&opi=89978449&url=https://www.aljazeera.com/&ved=2ahUKEwjcpPni1L6OAxW2LtAFHTrRJg4QFnoECC4QAQ',\n",
       "  'displayed_link': 'https://www.aljazeera.com',\n",
       "  'favicon': 'https://serpapi.com/searches/68762e52895d90ddd276d1f5/images/a1e5f2d48cb5e598291b88bdfff01798eca50e721d755ae60db04720906526cb.png',\n",
       "  'date': '5 hours ago',\n",
       "  'snippet': \"Al Jazeera · Cricket: England win dramatic Lord's Test against India by 22 runs · Chelsea trounce PSG to lift FIFA Club World Cup · Revenge is ...\",\n",
       "  'snippet_highlighted_words': [\"Cricket: England win dramatic Lord's Test against India by 22 runs\"],\n",
       "  'sitelinks': {'inline': [{'title': 'News', 'link': 'https://www.aljazeera.com/news/'},\n",
       "    {'title': 'US & Canada News', 'link': 'https://www.aljazeera.com/us-canada/'},\n",
       "    {'title': 'Live', 'link': 'https://www.aljazeera.com/live'},\n",
       "    {'title': 'Africa News', 'link': 'https://www.aljazeera.com/africa/'}]},\n",
       "  'source': 'Al Jazeera'},\n",
       " {'position': 5,\n",
       "  'title': 'World News | Latest Top Stories',\n",
       "  'link': 'https://www.reuters.com/world/',\n",
       "  'redirect_link': 'https://www.google.com/url?sa=t&source=web&rct=j&opi=89978449&url=https://www.reuters.com/world/&ved=2ahUKEwjcpPni1L6OAxW2LtAFHTrRJg4QFnoECCsQAQ',\n",
       "  'displayed_link': 'https://www.reuters.com › world',\n",
       "  'favicon': 'https://serpapi.com/searches/68762e52895d90ddd276d1f5/images/a1e5f2d48cb5e598291b88bdfff01798de4d44098c05bb33b094d324f3d4563e.png',\n",
       "  'snippet': 'Reuters.com is your online source for the latest world news stories and current events, ensuring our readers up to date with any breaking news developments.',\n",
       "  'snippet_highlighted_words': ['Reuters.com is your online source for the latest world news stories'],\n",
       "  'source': 'Reuters'},\n",
       " {'position': 6,\n",
       "  'title': 'World News Today: International News Headlines',\n",
       "  'link': 'https://www.thehindu.com/news/international/',\n",
       "  'redirect_link': 'https://www.google.com/url?sa=t&source=web&rct=j&opi=89978449&url=https://www.thehindu.com/news/international/&ved=2ahUKEwjcpPni1L6OAxW2LtAFHTrRJg4QFnoECC8QAQ',\n",
       "  'displayed_link': 'https://www.thehindu.com › news › international',\n",
       "  'favicon': 'https://serpapi.com/searches/68762e52895d90ddd276d1f5/images/a1e5f2d48cb5e598291b88bdfff017982ec7e93b5df255ee4f8469eace0e1e4d.png',\n",
       "  'snippet': 'Around The Globe · Magnitude 5.8 earthquake strikes Luzon, Philippines, GFZ says · End Ukraine war or face 100% tariffs: Trump tells Russia to make Ukraine deal.',\n",
       "  'snippet_highlighted_words': ['Magnitude 5.8 earthquake strikes Luzon, Philippines'],\n",
       "  'sitelinks': {'inline': [{'title': 'World leaders react to Trump...',\n",
       "     'link': 'https://www.thehindu.com/news/international/world-leaders-react-to-trump-tariff-canada-to-impose-counter-measures-on-us-says-pm-mark-carney/article69405922.ece'},\n",
       "    {'title': 'World Bank President Ajay...',\n",
       "     'link': 'https://www.thehindu.com/news/international/no-role-to-play-beyond-facilitator-world-bank-president-ajay-banga-on-indus-water-treaty/article69557007.ece'},\n",
       "    {'title': 'U.S. Elections', 'link': 'https://www.thehindu.com/news/international/us-elections/'}]},\n",
       "  'rich_snippet': {'top': {'detected_extensions': {'rating': 4.5, 'reviews': 322000}, 'extensions': ['4.5(322,000)']}},\n",
       "  'source': 'The Hindu'},\n",
       " {'position': 7,\n",
       "  'title': 'Latest news from around the world',\n",
       "  'link': 'https://www.theguardian.com/world',\n",
       "  'redirect_link': 'https://www.google.com/url?sa=t&source=web&rct=j&opi=89978449&url=https://www.theguardian.com/world&ved=2ahUKEwjcpPni1L6OAxW2LtAFHTrRJg4QFnoECDAQAQ',\n",
       "  'displayed_link': 'https://www.theguardian.com › world',\n",
       "  'favicon': 'https://serpapi.com/searches/68762e52895d90ddd276d1f5/images/a1e5f2d48cb5e598291b88bdfff0179837cd0be858cc2356d001ec913a18fba2.png',\n",
       "  'snippet': \"Middle East · UN's Albanese hails 30-nation meeting aimed at ending Israeli occupation of Palestine · Israel attacks Syrian military amid deadly clashes between ...\",\n",
       "  'snippet_highlighted_words': [\"UN's Albanese hails 30-nation meeting aimed at ending Israeli occupation of Palestine\"],\n",
       "  'sitelinks': {'inline': [{'title': 'Europe', 'link': 'https://www.theguardian.com/world/europe-news'},\n",
       "    {'title': 'Americas', 'link': 'https://www.theguardian.com/world/americas'},\n",
       "    {'title': 'Asia', 'link': 'https://www.theguardian.com/world/asia'},\n",
       "    {'title': 'US', 'link': 'https://www.theguardian.com/us-news'}]},\n",
       "  'source': 'The Guardian'},\n",
       " {'position': 8,\n",
       "  'title': 'World News: Latest International Headlines, Video, and ...',\n",
       "  'link': 'https://www.nbcnews.com/world',\n",
       "  'redirect_link': 'https://www.google.com/url?sa=t&source=web&rct=j&opi=89978449&url=https://www.nbcnews.com/world&ved=2ahUKEwjcpPni1L6OAxW2LtAFHTrRJg4QFnoECCwQAQ',\n",
       "  'displayed_link': 'https://www.nbcnews.com › world',\n",
       "  'favicon': 'https://serpapi.com/searches/68762e52895d90ddd276d1f5/images/a1e5f2d48cb5e598291b88bdfff01798b5d03732aab24a2b17cbe61268f38999.png',\n",
       "  'snippet': 'More than 70 arrested at U.K. protests in support of banned group Palestine Action. The British government has called the group a terrorist organization ...',\n",
       "  'snippet_highlighted_words': ['More than 70 arrested at U.K. protests'],\n",
       "  'source': 'NBC News'}]"
      ]
     },
     "execution_count": 2,
     "metadata": {},
     "output_type": "execute_result"
    }
   ],
   "source": [
    "results[\"organic_results\"]"
   ]
  },
  {
   "cell_type": "markdown",
   "metadata": {},
   "source": [
    "We reformat this to extract only the most relevant information, such as the the title, source, link, and snippet. Let's use pydantic `BaseModel` to define this structure."
   ]
  },
  {
   "cell_type": "code",
   "execution_count": 3,
   "metadata": {},
   "outputs": [],
   "source": [
    "from pydantic import BaseModel\n",
    "\n",
    "class Article(BaseModel):\n",
    "    title: str\n",
    "    source: str\n",
    "    link: str\n",
    "    snippet: str\n",
    "\n",
    "    @classmethod\n",
    "    def from_serpapi_result(cls, result: dict) -> \"Article\":\n",
    "        return cls(\n",
    "            title=result[\"title\"],\n",
    "            source=result[\"source\"],\n",
    "            link=result[\"link\"],\n",
    "            snippet=result[\"snippet\"],\n",
    "        )"
   ]
  },
  {
   "cell_type": "code",
   "execution_count": 4,
   "metadata": {},
   "outputs": [],
   "source": [
    "articles = [Article.from_serpapi_result(result) for result in results[\"organic_results\"]]"
   ]
  },
  {
   "cell_type": "code",
   "execution_count": 5,
   "metadata": {},
   "outputs": [
    {
     "data": {
      "text/plain": [
       "[Article(title='World | Latest News & Updates', source='BBC', link='https://www.bbc.com/news/world', snippet='Get all the latest news, live updates and content about the World from across the BBC.'),\n",
       " Article(title='World news - breaking news, video, headlines and opinion', source='CNN', link='https://www.cnn.com/world', snippet='View CNN world news today for international news and videos from Europe, Asia, Africa, the Middle East and the Americas.'),\n",
       " Article(title='World news', source='CBS News', link='https://www.cbsnews.com/world/', snippet='World · Nvidia says Trump admin. · Trump administration imposes 17% tariff on fresh Mexican tomatoes · Aristocrat and her partner found guilty over baby ...'),\n",
       " Article(title='Breaking News, World News and Video from Al Jazeera', source='Al Jazeera', link='https://www.aljazeera.com/', snippet=\"Al Jazeera · Cricket: England win dramatic Lord's Test against India by 22 runs · Chelsea trounce PSG to lift FIFA Club World Cup · Revenge is ...\"),\n",
       " Article(title='World News | Latest Top Stories', source='Reuters', link='https://www.reuters.com/world/', snippet='Reuters.com is your online source for the latest world news stories and current events, ensuring our readers up to date with any breaking news developments.'),\n",
       " Article(title='World News Today: International News Headlines', source='The Hindu', link='https://www.thehindu.com/news/international/', snippet='Around The Globe · Magnitude 5.8 earthquake strikes Luzon, Philippines, GFZ says · End Ukraine war or face 100% tariffs: Trump tells Russia to make Ukraine deal.'),\n",
       " Article(title='Latest news from around the world', source='The Guardian', link='https://www.theguardian.com/world', snippet=\"Middle East · UN's Albanese hails 30-nation meeting aimed at ending Israeli occupation of Palestine · Israel attacks Syrian military amid deadly clashes between ...\"),\n",
       " Article(title='World News: Latest International Headlines, Video, and ...', source='NBC News', link='https://www.nbcnews.com/world', snippet='More than 70 arrested at U.K. protests in support of banned group Palestine Action. The British government has called the group a terrorist organization ...')]"
      ]
     },
     "execution_count": 5,
     "metadata": {},
     "output_type": "execute_result"
    }
   ],
   "source": [
    "articles"
   ]
  },
  {
   "cell_type": "markdown",
   "metadata": {},
   "source": [
    "## Using Async"
   ]
  },
  {
   "cell_type": "markdown",
   "metadata": {},
   "source": [
    "All of this works, but it unfortunately is not async and the SerpAPI SDK does not support async either, so we much query the API directly using the `aiohttp` library."
   ]
  },
  {
   "cell_type": "code",
   "execution_count": 6,
   "metadata": {},
   "outputs": [
    {
     "data": {
      "text/plain": [
       "[{'position': 1,\n",
       "  'title': 'World | Latest News & Updates',\n",
       "  'link': 'https://www.bbc.com/news/world',\n",
       "  'redirect_link': 'https://www.google.com/url?sa=t&source=web&rct=j&opi=89978449&url=https://www.bbc.com/news/world&ved=2ahUKEwjtroy37b6OAxWcrYkEHRQtLkgQFnoECDMQAQ',\n",
       "  'displayed_link': 'https://www.bbc.com › news › world',\n",
       "  'favicon': 'https://serpapi.com/searches/6876482e73bf59a3c53cdcf8/images/a1e5f2d48cb5e598291b88bdfff01798cff16e6d023b0c62d12765cd24da488e.png',\n",
       "  'snippet': 'Israel bombs Syrian forces entering Druze city after sectarian clashes. About 100 people have reportedly been killed since fighting between Druze militias and ...',\n",
       "  'snippet_highlighted_words': ['Israel bombs Syrian forces entering Druze city'],\n",
       "  'sitelinks': {'inline': [{'title': 'BBC World', 'link': 'https://www.bbc.com/news/world_radio_and_tv'},\n",
       "    {'title': 'Middle East', 'link': 'https://www.bbc.com/news/world/middle_east'},\n",
       "    {'title': 'Europe', 'link': 'https://www.bbc.com/news/world/europe'},\n",
       "    {'title': 'Africa', 'link': 'https://www.bbc.com/news/world/africa'}]},\n",
       "  'source': 'BBC'},\n",
       " {'position': 2,\n",
       "  'title': 'World news - breaking news, video, headlines and opinion',\n",
       "  'link': 'https://www.cnn.com/world',\n",
       "  'redirect_link': 'https://www.google.com/url?sa=t&source=web&rct=j&opi=89978449&url=https://www.cnn.com/world&ved=2ahUKEwjtroy37b6OAxWcrYkEHRQtLkgQFnoECDcQAQ',\n",
       "  'displayed_link': 'https://www.cnn.com › world',\n",
       "  'favicon': 'https://serpapi.com/searches/6876482e73bf59a3c53cdcf8/images/a1e5f2d48cb5e598291b88bdfff0179824154abd8473996c73264a5fae32e530.png',\n",
       "  'snippet': 'View CNN world news today for international news and videos from Europe, Asia, Africa, the Middle East and the Americas.',\n",
       "  'snippet_highlighted_words': ['world news', 'news'],\n",
       "  'sitelinks': {'inline': [{'title': 'India-Pakistan news',\n",
       "     'link': 'https://www.cnn.com/world/live-news/india-pakistan-operation-sindoor-05-09-25-intl-hnk'},\n",
       "    {'title': 'The world mourns Pope Francis',\n",
       "     'link': 'https://www.cnn.com/2025/04/21/world/gallery/pope-francis-death-reaction'},\n",
       "    {'title': 'Asia', 'link': 'https://www.cnn.com/world/asia'},\n",
       "    {'title': 'Europe', 'link': 'https://www.cnn.com/world/europe'}]},\n",
       "  'source': 'CNN'},\n",
       " {'position': 3,\n",
       "  'title': \"World news: Latest news, breaking news, today's ...\",\n",
       "  'link': 'https://www.cbsnews.com/world/',\n",
       "  'redirect_link': 'https://www.google.com/url?sa=t&source=web&rct=j&opi=89978449&url=https://www.cbsnews.com/world/&ved=2ahUKEwjtroy37b6OAxWcrYkEHRQtLkgQFnoECC0QAQ',\n",
       "  'displayed_link': 'https://www.cbsnews.com › World',\n",
       "  'favicon': 'https://serpapi.com/searches/6876482e73bf59a3c53cdcf8/images/a1e5f2d48cb5e598291b88bdfff01798ac84368b0b93492f9b036da37cd34117.png',\n",
       "  'snippet': 'World · Putin rewards U.S. man with a Russian passport for spying in Ukraine · Mike Waltz to testify at confirmation hearing for U.N. ambassador · WWII ship ...',\n",
       "  'snippet_highlighted_words': ['World'],\n",
       "  'source': 'CBS News'},\n",
       " {'position': 4,\n",
       "  'title': 'Breaking News, World News and Video from Al Jazeera',\n",
       "  'link': 'https://www.aljazeera.com/',\n",
       "  'redirect_link': 'https://www.google.com/url?sa=t&source=web&rct=j&opi=89978449&url=https://www.aljazeera.com/&ved=2ahUKEwjtroy37b6OAxWcrYkEHRQtLkgQFnoECDIQAQ',\n",
       "  'displayed_link': 'https://www.aljazeera.com',\n",
       "  'favicon': 'https://serpapi.com/searches/6876482e73bf59a3c53cdcf8/images/a1e5f2d48cb5e598291b88bdfff01798eca50e721d755ae60db04720906526cb.png',\n",
       "  'date': '21 minutes ago',\n",
       "  'snippet': 'Israel bombs Gaza, Lebanon and Syria as settlers attack West Bank village · Attacks near Gaza aid sites have killed 875 Palestinians: UN · Rafah ...',\n",
       "  'snippet_highlighted_words': ['Israel bombs Gaza, Lebanon and Syria as settlers attack West Bank village'],\n",
       "  'sitelinks': {'inline': [{'title': 'News', 'link': 'https://www.aljazeera.com/news/'},\n",
       "    {'title': 'US & Canada News', 'link': 'https://www.aljazeera.com/us-canada/'},\n",
       "    {'title': 'Live', 'link': 'https://www.aljazeera.com/live'},\n",
       "    {'title': 'Africa News', 'link': 'https://www.aljazeera.com/africa/'}]},\n",
       "  'source': 'Al Jazeera'},\n",
       " {'position': 5,\n",
       "  'title': 'World News Today: International News Headlines',\n",
       "  'link': 'https://www.thehindu.com/news/international/',\n",
       "  'redirect_link': 'https://www.google.com/url?sa=t&source=web&rct=j&opi=89978449&url=https://www.thehindu.com/news/international/&ved=2ahUKEwjtroy37b6OAxWcrYkEHRQtLkgQFnoECDUQAQ',\n",
       "  'displayed_link': 'https://www.thehindu.com › news › international',\n",
       "  'favicon': 'https://serpapi.com/searches/6876482e73bf59a3c53cdcf8/images/a1e5f2d48cb5e598291b88bdfff01798de4d44098c05bb33b094d324f3d4563e.png',\n",
       "  'snippet': \"Elmo's X account gets hacked, posts antisemitic and racist messages · Paramilitary attack kills 48 in central Sudan village: war monitor · Texas flood death toll ...\",\n",
       "  'snippet_highlighted_words': [\"Elmo's X account gets hacked, posts antisemitic and racist messages\"],\n",
       "  'sitelinks': {'inline': [{'title': 'World leaders react to Trump...',\n",
       "     'link': 'https://www.thehindu.com/news/international/world-leaders-react-to-trump-tariff-canada-to-impose-counter-measures-on-us-says-pm-mark-carney/article69405922.ece'},\n",
       "    {'title': 'World Bank President Ajay...',\n",
       "     'link': 'https://www.thehindu.com/news/international/no-role-to-play-beyond-facilitator-world-bank-president-ajay-banga-on-indus-water-treaty/article69557007.ece'},\n",
       "    {'title': 'U.S. Elections', 'link': 'https://www.thehindu.com/news/international/us-elections/'}]},\n",
       "  'rich_snippet': {'top': {'detected_extensions': {'rating': 4.5, 'reviews': 322000}, 'extensions': ['4.5(322,000)']}},\n",
       "  'source': 'The Hindu'},\n",
       " {'position': 6,\n",
       "  'title': 'NBC News - Breaking News & Top Stories - Latest World, US ...',\n",
       "  'link': 'https://www.nbcnews.com/',\n",
       "  'redirect_link': 'https://www.google.com/url?sa=t&source=web&rct=j&opi=89978449&url=https://www.nbcnews.com/&ved=2ahUKEwjtroy37b6OAxWcrYkEHRQtLkgQFnoECDYQAQ',\n",
       "  'displayed_link': 'https://www.nbcnews.com',\n",
       "  'favicon': 'https://serpapi.com/searches/6876482e73bf59a3c53cdcf8/images/a1e5f2d48cb5e598291b88bdfff017982ec7e93b5df255ee4f8469eace0e1e4d.png',\n",
       "  'snippet': 'Go to NBCNews.com for breaking news, videos, and the latest top stories in world news, business, politics, health and pop culture.',\n",
       "  'snippet_highlighted_words': ['breaking news, videos, and the latest top stories in world news'],\n",
       "  'sitelinks': {'inline': [{'title': 'World', 'link': 'https://www.nbcnews.com/world'},\n",
       "    {'title': 'U.S. News', 'link': 'https://www.nbcnews.com/us-news'},\n",
       "    {'title': 'Latest Stories', 'link': 'https://www.nbcnews.com/latest-stories'},\n",
       "    {'title': 'Nightly News', 'link': 'https://www.nbcnews.com/nightly-news'}]},\n",
       "  'source': 'NBC News'},\n",
       " {'position': 7,\n",
       "  'title': 'World News | Latest Top Stories',\n",
       "  'link': 'https://www.reuters.com/world/',\n",
       "  'redirect_link': 'https://www.google.com/url?sa=t&source=web&rct=j&opi=89978449&url=https://www.reuters.com/world/&ved=2ahUKEwjtroy37b6OAxWcrYkEHRQtLkgQFnoECDQQAQ',\n",
       "  'displayed_link': 'https://www.reuters.com › world',\n",
       "  'favicon': 'https://serpapi.com/searches/6876482e73bf59a3c53cdcf8/images/a1e5f2d48cb5e598291b88bdfff0179837cd0be858cc2356d001ec913a18fba2.png',\n",
       "  'snippet': 'Reuters.com is your online source for the latest world news stories and current events, ensuring our readers up to date with any breaking news developments.',\n",
       "  'snippet_highlighted_words': ['Reuters.com is your online source for the latest world news stories'],\n",
       "  'sitelinks': {'inline': [{'title': 'Econ World', 'link': 'https://www.reuters.com/markets/econ-world/'},\n",
       "    {'title': 'World Health Organization',\n",
       "     'link': 'https://www.reuters.com/business/healthcare-pharmaceuticals/world-health-organization-members-vote-favour-global-pandemic-agreement-2025-05-19/'},\n",
       "    {'title': 'United States', 'link': 'https://www.reuters.com/world/us/'},\n",
       "    {'title': 'China', 'link': 'https://www.reuters.com/world/china/'}]},\n",
       "  'source': 'Reuters'},\n",
       " {'position': 8,\n",
       "  'title': 'Google News',\n",
       "  'link': 'https://news.google.com/',\n",
       "  'redirect_link': 'https://www.google.com/url?sa=t&source=web&rct=j&opi=89978449&url=https://news.google.com/&ved=2ahUKEwjtroy37b6OAxWcrYkEHRQtLkgQFnoECCoQAQ',\n",
       "  'displayed_link': 'https://news.google.com',\n",
       "  'favicon': 'https://serpapi.com/searches/6876482e73bf59a3c53cdcf8/images/a1e5f2d48cb5e598291b88bdfff01798b5d03732aab24a2b17cbe61268f38999.png',\n",
       "  'snippet': \"Trump announces novel plan to send weapons to Ukraine and gives Russia new deadline to make peace · Donald Trump's Maga base split over handling of Jeffrey ...\",\n",
       "  'snippet_highlighted_words': ['Trump announces novel plan to send weapons to Ukraine'],\n",
       "  'source': 'Google News'},\n",
       " {'position': 9,\n",
       "  'title': 'Latest news from around the world',\n",
       "  'link': 'https://www.theguardian.com/world',\n",
       "  'redirect_link': 'https://www.google.com/url?sa=t&source=web&rct=j&opi=89978449&url=https://www.theguardian.com/world&ved=2ahUKEwjtroy37b6OAxWcrYkEHRQtLkgQFnoECEkQAQ',\n",
       "  'displayed_link': 'https://www.theguardian.com › world',\n",
       "  'favicon': 'https://serpapi.com/searches/6876482e73bf59a3c53cdcf8/images/a1e5f2d48cb5e598291b88bdfff017980989f47bd01163143a832a9639516078.png',\n",
       "  'snippet': \"Middle East · UN's Albanese hails 30-nation meeting aimed at ending Israeli occupation of Palestine · Israel attacks Syrian military amid deadly clashes between ...\",\n",
       "  'snippet_highlighted_words': [\"UN's Albanese hails 30-nation meeting aimed at ending Israeli occupation of Palestine\"],\n",
       "  'sitelinks': {'inline': [{'title': 'Europe', 'link': 'https://www.theguardian.com/world/europe-news'},\n",
       "    {'title': 'Americas', 'link': 'https://www.theguardian.com/world/americas'},\n",
       "    {'title': 'Asia', 'link': 'https://www.theguardian.com/world/asia'},\n",
       "    {'title': 'US', 'link': 'https://www.theguardian.com/us-news'}]},\n",
       "  'source': 'The Guardian'}]"
      ]
     },
     "execution_count": 6,
     "metadata": {},
     "output_type": "execute_result"
    }
   ],
   "source": [
    "import aiohttp\n",
    "\n",
    "async with aiohttp.ClientSession() as session:\n",
    "    async with session.get(\n",
    "        \"https://serpapi.com/search\",\n",
    "        params=params\n",
    "    ) as response:\n",
    "        results = await response.json()\n",
    "\n",
    "results[\"organic_results\"]"
   ]
  },
  {
   "cell_type": "markdown",
   "metadata": {},
   "source": [
    "With that, we have all we need to build a fully async serpapi tool."
   ]
  },
  {
   "cell_type": "code",
   "execution_count": 8,
   "metadata": {},
   "outputs": [],
   "source": [
    "from langchain_core.tools import tool\n",
    "\n",
    "@tool\n",
    "async def serpapi(query: str) -> list[Article]:\n",
    "    \"\"\"Use this tool to search the web.\"\"\"\n",
    "    params = {\n",
    "        \"api_key\": SERPAPI_API_KEY,\n",
    "        \"engine\": \"google\",\n",
    "        \"q\": query,\n",
    "    }\n",
    "    async with aiohttp.ClientSession() as session:\n",
    "        async with session.get(\n",
    "            \"https://serpapi.com/search\",\n",
    "            params=params\n",
    "        ) as response:\n",
    "            results = await response.json() # 将json文本转换为python字典\n",
    "    return [Article.from_serpapi_result(result) for result in results[\"organic_results\"]]"
   ]
  },
  {
   "cell_type": "markdown",
   "metadata": {},
   "source": [
    "Note that because this tool is async, we cannot use `tool.func` to call it as before:"
   ]
  },
  {
   "cell_type": "code",
   "execution_count": 9,
   "metadata": {},
   "outputs": [],
   "source": [
    "serpapi.func"
   ]
  },
  {
   "cell_type": "markdown",
   "metadata": {},
   "source": [
    "Instead, we use `tool.coroutine`:"
   ]
  },
  {
   "cell_type": "code",
   "execution_count": 10,
   "metadata": {},
   "outputs": [
    {
     "data": {
      "text/plain": [
       "<function __main__.serpapi(query: str) -> list[__main__.Article]>"
      ]
     },
     "execution_count": 10,
     "metadata": {},
     "output_type": "execute_result"
    }
   ],
   "source": [
    "serpapi.coroutine"
   ]
  },
  {
   "cell_type": "markdown",
   "metadata": {},
   "source": [
    "---"
   ]
  }
 ],
 "metadata": {
  "kernelspec": {
   "display_name": ".venv",
   "language": "python",
   "name": "python3"
  },
  "language_info": {
   "codemirror_mode": {
    "name": "ipython",
    "version": 3
   },
   "file_extension": ".py",
   "mimetype": "text/x-python",
   "name": "python",
   "nbconvert_exporter": "python",
   "pygments_lexer": "ipython3",
   "version": "3.12.7"
  }
 },
 "nbformat": 4,
 "nbformat_minor": 2
}
