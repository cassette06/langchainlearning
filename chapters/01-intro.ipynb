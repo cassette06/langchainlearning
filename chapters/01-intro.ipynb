{
  "cells": [
    {
      "cell_type": "code",
      "execution_count": null,
      "metadata": {},
      "outputs": [],
      "source": [
        "\n"
      ]
    },
    {
      "cell_type": "code",
      "execution_count": null,
      "metadata": {},
      "outputs": [],
      "source": [
        "\n"
      ]
    },
    {
      "cell_type": "markdown",
      "metadata": {},
      "source": [
        "[![Open In Colab](https://colab.research.google.com/assets/colab-badge.svg)](https://colab.research.google.com/github/aurelio-labs/langchain-course/blob/main/chapters/01-intro.ipynb)"
      ]
    },
    {
      "cell_type": "markdown",
      "metadata": {
        "id": "mptJD94oH6ak"
      },
      "source": [
        "#### LangChain Essentials Course"
      ]
    },
    {
      "cell_type": "markdown",
      "metadata": {
        "id": "jwjxctC0H6am"
      },
      "source": [
        "# Getting Started with LangChain"
      ]
    },
    {
      "cell_type": "markdown",
      "metadata": {
        "id": "adOQXfBHH6am"
      },
      "source": [
        "LangChain is one of the most popular open source libraries for AI Engineers. It's goal is to abstract away the complexity in building AI software, provide easy-to-use building blocks, and make it easier when switching between AI service providers.\n",
        "\n",
        "In this example, we will introduce LangChain, building a simple LLM-powered assistant. We'll provide examples for both OpenAI's `gpt-4o-mini` *and* Meta's `llama3.2` via Ollama!"
      ]
    },
    {
      "cell_type": "markdown",
      "metadata": {
        "id": "ccz9ouBwH6am"
      },
      "source": [
        "---\n",
        "\n",
        "> ⚠️ We will be using OpenAI for this example allowing us to run everything via API. If you would like to use Ollama instead, check out the [Ollama LangChain Course](https://github.com/aurelio-labs/langchain-course/tree/main/notebooks/ollama).\n",
        "\n",
        "---"
      ]
    },
    {
      "cell_type": "code",
      "execution_count": 1,
      "metadata": {
        "id": "eXoe53VyIAD-"
      },
      "outputs": [],
      "source": [
        "!pip install -qU \\\n",
        "  langchain-core==0.3.33 \\\n",
        "  langchain-openai==0.3.3 \\\n",
        "  langchain-community==0.3.16"
      ]
    },
    {
      "cell_type": "markdown",
      "metadata": {
        "id": "JFy86kIBH6am"
      },
      "source": [
        "## Initializing OpenAI's gpt-4o-mini"
      ]
    },
    {
      "cell_type": "markdown",
      "metadata": {
        "id": "5Jq_58vDH6an"
      },
      "source": [
        "We start by initializing our LLM. We will use OpenAI's `gpt-4o-mini` model, if you need an API key you can get one from [OpenAI's website](https://platform.openai.com/settings/organization/api-keys)."
      ]
    },
    {
      "cell_type": "code",
      "execution_count": 16,
      "metadata": {},
      "outputs": [
        {
          "name": "stderr",
          "output_type": "stream",
          "text": [
            "/var/folders/7l/93h0p1b103v6bmb2440lc3740000gn/T/ipykernel_85595/3522731578.py:1: DeprecationWarning: Importing display from IPython.core.display is deprecated since IPython 7.14, please import from IPython.display\n",
            "  from IPython.core.display import display, HTML\n"
          ]
        },
        {
          "data": {
            "text/html": [
              "<style>.container { width:90% !important; }</style>"
            ],
            "text/plain": [
              "<IPython.core.display.HTML object>"
            ]
          },
          "metadata": {},
          "output_type": "display_data"
        }
      ],
      "source": [
        "from IPython.core.display import display, HTML\n",
        "display(HTML(\"<style>.container { width:90% !important; }</style>\"))\n"
      ]
    },
    {
      "cell_type": "code",
      "execution_count": 2,
      "metadata": {
        "colab": {
          "base_uri": "https://localhost:8080/"
        },
        "id": "dL1OqS7RH6an",
        "outputId": "ef506821-32b0-4de4-b910-ad45f616bd9d"
      },
      "outputs": [],
      "source": [
        "import os\n",
        "from getpass import getpass\n",
        "\n",
        "os.environ[\"OPENAI_API_KEY\"] = os.getenv(\"OPENAI_API_KEY\") or getpass(\n",
        "    \"Enter OpenAI API Key: \"\n",
        ")\n",
        "\n",
        "openai_model = \"gpt-4o-mini\""
      ]
    },
    {
      "cell_type": "code",
      "execution_count": 50,
      "metadata": {},
      "outputs": [
        {
          "name": "stdout",
          "output_type": "stream",
          "text": [
            "API Key 是否已设置: True\n",
            "使用的模型: gpt-4o-mini\n"
          ]
        }
      ],
      "source": [
        "print(\"API Key 是否已设置:\", bool(os.getenv(\"OPENAI_API_KEY\")))\n",
        "# print('api is ', os.getenv(\"OPENAI_API_KEY\"))\n",
        "print(\"使用的模型:\", openai_model)"
      ]
    },
    {
      "cell_type": "code",
      "execution_count": 4,
      "metadata": {
        "id": "Y_tz8kTVH6an"
      },
      "outputs": [],
      "source": [
        "from langchain_openai import ChatOpenAI\n",
        "\n",
        "# For normal accurate responses\n",
        "llm = ChatOpenAI(temperature=0.0, model=openai_model)\n",
        "\n",
        "# For unique creative responses\n",
        "creative_llm = ChatOpenAI(temperature=0.9, model=openai_model)"
      ]
    },
    {
      "cell_type": "markdown",
      "metadata": {
        "id": "jymjwQiMH6an"
      },
      "source": [
        "We will be taking an `article` _draft_ and using LangChain to generate various useful items around this article. We'll be creating:\n",
        "\n",
        "1. An article title\n",
        "2. An article description\n",
        "3. Editor advice where we will insert an additional paragraph in the article\n",
        "4. A thumbnail / hero image for our article."
      ]
    },
    {
      "cell_type": "markdown",
      "metadata": {
        "id": "jSsQ8xKuH6an"
      },
      "source": [
        "Here we input our article to start with. Currently this is using an article from the Aurelio AI learning page."
      ]
    },
    {
      "cell_type": "code",
      "execution_count": 11,
      "metadata": {
        "id": "sfwEVT97H6ao"
      },
      "outputs": [],
      "source": [
        "article = \"\"\"\n",
        "\\\n",
        "We believe AI's short—to mid-term future belongs to agents and that the long-term future of *AGI* may evolve from agentic systems. Our definition of agents covers any neuro-symbolic system in which we merge neural AI (such as an LLM) with semi-traditional software.\n",
        "\n",
        "With agents, we allow LLMs to integrate with code — allowing AI to search the web, perform math, and essentially integrate into anything we can build with code. It should be clear the scope of use cases is phenomenal where AI can integrate with the broader world of software.\n",
        "\n",
        "In this introduction to AI agents, we will cover the essential concepts that make them what they are and why that will make them the core of real-world AI in the years to come.\n",
        "\n",
        "---\n",
        "\n",
        "## Neuro-Symbolic Systems\n",
        "\n",
        "Neuro-symbolic systems consist of both neural and symbolic computation, where:\n",
        "\n",
        "- Neural refers to LLMs, embedding models, or other neural network-based models.\n",
        "- Symbolic refers to logic containing symbolic logic, such as code.\n",
        "\n",
        "Both neural and symbolic AI originate from the early philosophical approaches to AI: connectionism (now neural) and symbolism. Symbolic AI is the more traditional AI. Diehard symbolists believed they could achieve true AGI via written rules, ontologies, and other logical functions.\n",
        "\n",
        "The other camp were the connectionists. Connectionism emerged in 1943 with a theoretical neural circuit but truly kicked off with Rosenblatt's perceptron paper in 1958 [1][2]. Both of these approaches to AI are fascinating but deserve more time than we can give them here, so we will leave further exploration of these concepts for a future chapter.\n",
        "\n",
        "Most important to us is understanding where symbolic logic outperforms neural-based compute and vice-versa.\n",
        "\n",
        "| Neural | Symbolic |\n",
        "| --- | --- |\n",
        "| Flexible, learned logic that can cover a huge range of potential scenarios. | Mostly hand-written rules which can be very granular and fine-tuned but hard to scale. |\n",
        "| Hard to interpret why a neural system does what it does. Very difficult or even impossible to predict behavior. | Rules are written and can be understood. When unsure why a particular ouput was produced we can look at the rules / logic to understand. |\n",
        "| Requires huge amount of data and compute to train state-of-the-art neural models, making it hard to add new abilities or update with new information. | Code is relatively cheap to write, it can be updated with new features easily, and latest information can often be added often instantaneously. |\n",
        "| When trained on broad datasets can often lack performance when exposed to unique scenarios that are not well represented in the training data. | Easily customized to unique scenarios. |\n",
        "| Struggles with complex computations such as mathematical operations. | Perform complex computations very quickly and accurately. |\n",
        "\n",
        "Pure neural architectures struggle with many seemingly simple tasks. For example, an LLM *cannot* provide an accurate answer if we ask it for today's date.\n",
        "\n",
        "Retrieval Augmented Generation (RAG) is commonly used to provide LLMs with up-to-date knowledge on a particular subject or access to proprietary knowledge.\n",
        "\n",
        "### Giving LLMs Superpowers\n",
        "\n",
        "By 2020, it was becoming clear that neural AI systems could not perform tasks symbolic systems typically excelled in, such as arithmetic, accessing structured DB data, or making API calls. These tasks require discrete input parameters that allow us to process them reliably according to strict written logic.\n",
        "\n",
        "In 2022, researchers at AI21 developed Jurassic-X, an LLM-based \"neuro-symbolic architecture.\" Neuro-symbolic refers to merging the \"neural computation\" of large language models (LLMs) with more traditional (i.e. symbolic) computation of code.\n",
        "\n",
        "Jurassic-X used the Modular Reasoning, Knowledge, and Language (MRKL) system [3]. The researchers developed MRKL to solve the limitations of LLMs, namely:\n",
        "\n",
        "- Lack of up-to-date knowledge, whether that is the latest in AI or something as simple as today's date.\n",
        "- Lack of proprietary knowledge, such as internal company docs or your calendar bookings.\n",
        "- Lack of reasoning, i.e. the inability to perform operations that traditional software is good at, like running complex mathematical operations.\n",
        "- Lack of ability to generalize. Back in 2022, most LLMs had to be fine-tuned to perform well in a specific domain. This problem is still present today but far less prominent as the SotA models generalize much better and, in the case of MRKL, are able to use tools relatively well (although we could certainly take the MRKL solution to improve tool use performance even today).\n",
        "\n",
        "MRKL represents one of the earliest forms of what we would now call an agent; it is an LLM (neural computation) paired with executable code (symbolic computation).\n",
        "\n",
        "## ReAct and Tools\n",
        "\n",
        "There is a misconception in the broader industry that an AI agent is an LLM contained within some looping logic that can generate inputs for and execute code functions. This definition of agents originates from the huge popularity of the ReAct agent framework and the adoption of a similar structure with function/tool calling by LLM providers such as OpenAI, Anthropic, and Ollama.\n",
        "\n",
        "![ReAct agent flow with the Reasoning-Action loop [4]. When the action chosen specifies to use a normal tool, the tool is used and the observation returned for another iteration through the Reasoning-Action loop. To return a final answer to the user the LLM must choose action \"answer\" and provide the natural language response, finishing the loop.](/images/posts/ai-agents/ai-agents-00.png)\n",
        "\n",
        "<small>ReAct agent flow with the Reasoning-Action loop [4]. When the action chosen specifies to use a normal tool, the tool is used and the observation returned for another iteration through the Reasoning-Action loop. To return a final answer to the user the LLM must choose action \"answer\" and provide the natural language response, finishing the loop.</small>\n",
        "\n",
        "Our \"neuro-symbolic\" definition is much broader but certainly does include ReAct agents and LLMs paired with tools. This agent type is the most common for now, so it's worth understanding the basic concept behind it.\n",
        "\n",
        "The **Re**ason **Act**ion (ReAct) method encourages LLMs to generate iterative *reasoning* and *action* steps. During *reasoning,* the LLM describes what steps are to be taken to answer the user's query. Then, the LLM generates an *action,* which we parse into an input to some executable code, which we typically describe as a tool/function call.\n",
        "\n",
        "![ReAct method. Each iteration includes a Reasoning step followed by an Action (tool call) step. The Observation is the output from the previous tool call. During the final iteration the agent calls the answer tool, meaning we generate the final answer for the user.](/images/posts/ai-agents/ai-agents-01.png)\n",
        "\n",
        "<small>ReAct method. Each iteration includes a Reasoning step followed by an Action (tool call) step. The Observation is the output from the previous tool call. During the final iteration the agent calls the answer tool, meaning we generate the final answer for the user.</small>\n",
        "\n",
        "Following the reason and action steps, our action tool call returns an observation. The logic returns the observation to the LLM, which is then used to generate subsequent reasoning and action steps.\n",
        "\n",
        "The ReAct loop continues until the LLM has enough information to answer the original input. Once the LLM reaches this state, it calls a special *answer* action with the generated answer for the user.\n",
        "\n",
        "## Not only LLMs and Tool Calls\n",
        "\n",
        "LLMs paired with tool calling are powerful but far from the only approach to building agents. Using the definition of neuro-symbolic, we cover architectures such as:\n",
        "\n",
        "- Multi-agent workflows that involve multiple LLM-tool (or other agent structure) combinations.\n",
        "- More deterministic workflows where we may have set neural model-tool paths that may fork or merge as the use case requires.\n",
        "- Embedding models that can detect user intents and decide tool-use or LLM selection-based selection in vector space.\n",
        "\n",
        "These are just a few high-level examples of alternative agent structures. Far from being designed for niche use cases, we find these alternative options to frequently perform better than the more common ReAct or Tool agents. We will cover all of these examples and more in future chapters.\n",
        "\n",
        "---\n",
        "\n",
        "Agents are fundamental to the future of AI, but that doesn't mean we should expect that future to come from agents in their most popular form today. ReAct and Tool agents are great and handle many simple use cases well, but the scope of agents is much broader, and we believe thinking beyond ReAct and Tools is key to building future AI.\n",
        "\n",
        "---\n",
        "\n",
        "You can sign up for the [Aurelio AI newsletter](https://b0fcw9ec53w.typeform.com/to/w2BDHVK7) to stay updated on future releases in our comprehensive course on agents.\n",
        "\n",
        "---\n",
        "\n",
        "## References\n",
        "\n",
        "[1] The curious case of Connectionism (2019) [https://www.degruyter.com/document/doi/10.1515/opphil-2019-0018/html](https://www.degruyter.com/document/doi/10.1515/opphil-2019-0018/html)\n",
        "\n",
        "[2] F. Rosenblatt, [The Perceptron: A Probabilistic Model for Information Storage and Organization in the Brain](https://www.ling.upenn.edu/courses/cogs501/Rosenblatt1958.pdf) (1958), Psychological Review\n",
        "\n",
        "[3] E. Karpas et al. [MRKL Systems: A Modular, Neuro-Symbolic Architecture That Combines Large Language Models, External Knowledge Sources and Discrete Reasoning](https://arxiv.org/abs/2205.00445) (2022), AI21 Labs\n",
        "\"\"\""
      ]
    },
    {
      "cell_type": "markdown",
      "metadata": {
        "id": "HmFcbFU4H6ao"
      },
      "source": [
        "LangChain comes with several prompt classes and methods for organizing or constructing our prompts. We will cover these in more detail in later examples, but for now we'll cover the essentials that we need here.\n",
        "\n",
        "Prompts for chat agents are at a minimum broken up into three components, those are:\n",
        "\n",
        "* System prompt: this provides the instructions to our LLM on how it must behave, what it's objective is, etc.\n",
        "\n",
        "* User prompt: this is a user written input.\n",
        "\n",
        "* AI prompt: this is the AI generated output. When representing a conversation, previous generations will be inserted back into the next prompt and become part of the broader _chat history_.\n",
        "\n",
        "```\n",
        "You are a helpful AI assistant, you will do XYZ.    | SYSTEM PROMPT\n",
        "\n",
        "User: Hi, what is the capital of Australia?         | USER PROMPT\n",
        "AI: It is Canberra                                  | AI PROMPT\n",
        "User: When is the best time to visit?               | USER PROMPT\n",
        "```\n",
        "\n",
        "LangChain provides us with _templates_ for each of these prompt types. By using templates we can insert different inputs to the template, modifying the prompt based on the provided inputs.\n",
        "\n",
        "Let's initialize our system and user prompt first:"
      ]
    },
    {
      "cell_type": "markdown",
      "metadata": {
        "id": "hM0HBv7bH6ao"
      },
      "source": [
        "## Preparing our Prompts"
      ]
    },
    {
      "cell_type": "code",
      "execution_count": 5,
      "metadata": {
        "id": "2gsWvNLcH6ao"
      },
      "outputs": [],
      "source": [
        "from langchain.prompts import SystemMessagePromptTemplate, HumanMessagePromptTemplate\n",
        "\n",
        "# Defining the system prompt (how the AI should act)\n",
        "system_prompt = SystemMessagePromptTemplate.from_template(\n",
        "    \"You are an AI assistant that helps generate article titles.\"\n",
        ")\n",
        "\n",
        "# the user prompt is provided by the user, in this case however the only dynamic\n",
        "# input is the article\n",
        "# lxy: 这里的from_template接受两个参数， template_string和input_variables,z 这里占位符必须和input_variables中的名称完全匹配\n",
        "user_prompt = HumanMessagePromptTemplate.from_template(\n",
        "    \"\"\"You are tasked with creating a name for a article.\n",
        "The article is here for you to examine \n",
        "--------------------------------\n",
        "{article}\n",
        "--------------------------------\n",
        "The name should be based of the context of the article.\n",
        "Be creative, but make sure the names are clear, catchy,\n",
        "and relevant to the theme of the article.\n",
        "\n",
        "Only output the article name, no other explanation or\n",
        "text can be provided.\"\"\",\n",
        "    input_variables=[\"article\"]\n",
        ")"
      ]
    },
    {
      "cell_type": "markdown",
      "metadata": {
        "id": "TaCnQaAdH6ao"
      },
      "source": [
        "We can display what our formatted human prompt would look like after inserting a value into the `article` parameter:"
      ]
    },
    {
      "cell_type": "code",
      "execution_count": 6,
      "metadata": {
        "colab": {
          "base_uri": "https://localhost:8080/"
        },
        "id": "C3PlnjtEH6ao",
        "outputId": "b1509cf0-2b95-433c-9596-c94a20dff82e"
      },
      "outputs": [
        {
          "name": "stdout",
          "output_type": "stream",
          "text": [
            "You are tasked with creating a name for a article.\n",
            "The article is here for you to examine \n",
            "--------------------------------\n",
            "TEST STRING\n",
            "--------------------------------\n",
            "The name should be based of the context of the article.\n",
            "Be creative, but make sure the names are clear, catchy,\n",
            "and relevant to the theme of the article.\n",
            "\n",
            "Only output the article name, no other explanation or\n",
            "text can be provided.\n"
          ]
        }
      ],
      "source": [
        "# user_prompt.format(article=\"TEST STRING\")\n",
        "print((user_prompt.format(article=\"TEST STRING\")).content)"
      ]
    },
    {
      "cell_type": "markdown",
      "metadata": {
        "id": "VDbNHkm3H6ap"
      },
      "source": [
        "We have our system and user prompts, we can merge both into our full chat prompt using the `ChatPromptTemplate`:"
      ]
    },
    {
      "cell_type": "code",
      "execution_count": 7,
      "metadata": {
        "id": "GeokbXtIH6ap"
      },
      "outputs": [],
      "source": [
        "from langchain.prompts import ChatPromptTemplate\n",
        "\n",
        "first_prompt = ChatPromptTemplate.from_messages([system_prompt, user_prompt])"
      ]
    },
    {
      "cell_type": "markdown",
      "metadata": {
        "id": "7K70F86jH6ap"
      },
      "source": [
        "By default, the `ChatPromptTemplate` will read the `input_variables` from each of the prompt templates inserted and allow us to use those input variables when formatting the full chat prompt template:"
      ]
    },
    {
      "cell_type": "code",
      "execution_count": 8,
      "metadata": {
        "colab": {
          "base_uri": "https://localhost:8080/"
        },
        "id": "aHnbZ5iUH6ap",
        "outputId": "8d7186cc-fef5-497f-8319-b055ca9d4cb6"
      },
      "outputs": [
        {
          "name": "stdout",
          "output_type": "stream",
          "text": [
            "System: You are an AI assistant that helps generate article titles.\n",
            "Human: You are tasked with creating a name for a article.\n",
            "The article is here for you to examine \n",
            "--------------------------------\n",
            "TEST STRING\n",
            "--------------------------------\n",
            "The name should be based of the context of the article.\n",
            "Be creative, but make sure the names are clear, catchy,\n",
            "and relevant to the theme of the article.\n",
            "\n",
            "Only output the article name, no other explanation or\n",
            "text can be provided.\n"
          ]
        }
      ],
      "source": [
        "print(first_prompt.format(article=\"TEST STRING\"))"
      ]
    },
    {
      "cell_type": "markdown",
      "metadata": {
        "id": "Y-5Sv9XoH6ap"
      },
      "source": [
        "`ChatPromptTemplate` also prefixes each individual message with it's role, ie `System:`, `Human:`, or `AI:`.\n",
        "\n",
        "We can chain together our `first_prompt` template and the `llm` object we defined earlier to create a simple LLM chain. This chain will perform the steps **prompt formatting > llm generation > get output**.\n",
        "\n",
        "We'll be using **L**ang**C**hain **E**xpression **L**anguage (LCEL) to construct our chain. This syntax can look a little strange but we will cover it in detail later in the course. For now, all we need to know is that we define our inputs with the first dictionary segment (ie `{\"article\": lambda x: x[\"article\"]}`) and then we use the pipe operator (`|`) to say <mark>that the output from the left of the pipe will be fed into the input to the right of the pipe</mark>."
      ]
    },
    {
      "cell_type": "code",
      "execution_count": 9,
      "metadata": {
        "id": "7z1PNdmxSCJY"
      },
      "outputs": [],
      "source": [
        "chain_one = (\n",
        "    {\"article\": lambda x: x[\"article\"]}\n",
        "    | first_prompt\n",
        "    | creative_llm\n",
        "    | {\"article_title\": lambda x: x.content}\n",
        ")"
      ]
    },
    {
      "cell_type": "markdown",
      "metadata": {
        "id": "xcXrW5aoH6ap"
      },
      "source": [
        "Our first chain creates the article title, note: we can run all of these individually..."
      ]
    },
    {
      "cell_type": "code",
      "execution_count": 12,
      "metadata": {
        "colab": {
          "base_uri": "https://localhost:8080/"
        },
        "id": "pKLWN56xH6ap",
        "outputId": "abf21141-8958-40d2-bba2-c75a0f48d90e"
      },
      "outputs": [
        {
          "data": {
            "text/plain": [
              "{'article_title': '\"Unlocking AI\\'s Potential: The Rise of Neuro-Symbolic Agents\"'}"
            ]
          },
          "execution_count": 12,
          "metadata": {},
          "output_type": "execute_result"
        }
      ],
      "source": [
        "article_title_msg = chain_one.invoke({\"article\": article})\n",
        "article_title_msg"
      ]
    },
    {
      "cell_type": "markdown",
      "metadata": {
        "id": "n6iDE_RwH6ap"
      },
      "source": [
        "But we will actually chain this step with multiple other `LLMChain` steps. So, to continue, our next step is to summarize the article using both the `article` and newly generated `article_title` values, from which we will output a new `summary` variable:"
      ]
    },
    {
      "cell_type": "code",
      "execution_count": 13,
      "metadata": {
        "id": "qtLcHVxSH6ap"
      },
      "outputs": [],
      "source": [
        "system_prompt = SystemMessagePromptTemplate.from_template(\n",
        "    \"You are an AI assistant that helps build articles.\"\n",
        ")\n",
        "\n",
        "\n",
        "second_user_prompt = HumanMessagePromptTemplate.from_template(\n",
        "    \"\"\"You are tasked with creating a description for\n",
        "the article. The article is here for you to examine:\n",
        "\n",
        "---\n",
        "\n",
        "{article}\n",
        "\n",
        "---\n",
        "\n",
        "Here is the article title '{article_title}'.\n",
        "\n",
        "Output the SEO friendly article description. please make sure do not exceed 120 charactors .Do not output\n",
        "anything other than the description.\"\"\",\n",
        "    input_variables=[\"article\", \"article_title\"]\n",
        ")\n",
        "\n",
        "second_prompt = ChatPromptTemplate.from_messages([\n",
        "    system_prompt,\n",
        "    second_user_prompt\n",
        "])"
      ]
    },
    {
      "cell_type": "code",
      "execution_count": 14,
      "metadata": {
        "id": "TPFKMq8tcmw-"
      },
      "outputs": [],
      "source": [
        "chain_two = (\n",
        "    {\n",
        "        \"article\": lambda x: x[\"article\"],\n",
        "        \"article_title\": lambda x: x[\"article_title\"]\n",
        "    }\n",
        "    | second_prompt\n",
        "    | llm\n",
        "    | {\"summary\": lambda x: x.content}\n",
        ")"
      ]
    },
    {
      "cell_type": "code",
      "execution_count": 17,
      "metadata": {
        "colab": {
          "base_uri": "https://localhost:8080/"
        },
        "id": "pdhUjj89efRw",
        "outputId": "008fb4f0-64e6-4533-b72e-86c905e520db"
      },
      "outputs": [
        {
          "data": {
            "text/plain": [
              "{'summary': 'Explore the future of AI with neuro-symbolic agents, merging LLMs and code for powerful, real-world applications.'}"
            ]
          },
          "execution_count": 17,
          "metadata": {},
          "output_type": "execute_result"
        }
      ],
      "source": [
        "article_description_msg = chain_two.invoke({\n",
        "    \"article\": article,\n",
        "    \"article_title\": article_title_msg[\"article_title\"]\n",
        "})\n",
        "article_description_msg"
      ]
    },
    {
      "cell_type": "markdown",
      "metadata": {
        "id": "0SEGMX9BH6ap"
      },
      "source": [
        "The third step will consume our first `article` variable and provide several output fields, focusing on helping the user improve a part of their writing. As we are outputting multiple fields we can specify for the LLM to use structured outputs, keeping the generated fields aligned with our requirements."
      ]
    },
    {
      "cell_type": "code",
      "execution_count": 18,
      "metadata": {
        "id": "PPQf5ycHH6ap"
      },
      "outputs": [],
      "source": [
        "third_user_prompt = HumanMessagePromptTemplate.from_template(\n",
        "    \"\"\"You are tasked with creating a new paragraph for the\n",
        "article. The article is here for you to examine:\n",
        "\n",
        "---\n",
        "\n",
        "{article}\n",
        "\n",
        "---\n",
        "\n",
        "Choose one paragraph to review and edit. During your edit\n",
        "ensure you provide constructive feedback to the user so they\n",
        "can learn where to improve their own writing.\"\"\",\n",
        "    input_variables=[\"article\"]\n",
        ")\n",
        "\n",
        "# prompt template 3: creating a new paragraph for the article\n",
        "third_prompt = ChatPromptTemplate.from_messages([\n",
        "    system_prompt,\n",
        "    third_user_prompt\n",
        "])"
      ]
    },
    {
      "cell_type": "markdown",
      "metadata": {
        "id": "SKUX9TFuDP0J"
      },
      "source": [
        "We create a pydantic object describing the output format we need. This format description is then passed to our model using the `with_structured_output` method:"
      ]
    },
    {
      "cell_type": "markdown",
      "metadata": {},
      "source": [
        "| 项目                           | 含义                                         |\n",
        "| ---------------------------- | ------------------------------------------ |\n",
        "| `BaseModel`                  | Pydantic 提供的基础模型类，用于构建结构化数据模型              |\n",
        "| `Field()`                    | 设置字段的额外信息，如描述、默认值、验证规则                     |\n",
        "| `class Paragraph(BaseModel)` | 定义一个结构化数据模型，供 LangChain 或 API 使用           |\n",
        "| `.with_structured_output()`  | 告诉 LLM 按照这个结构输出，LangChain 自动处理 JSON → 模型解析 |\n"
      ]
    },
    {
      "cell_type": "code",
      "execution_count": 19,
      "metadata": {
        "id": "W1VHC0VSDdDM"
      },
      "outputs": [],
      "source": [
        "from pydantic import BaseModel, Field\n",
        "\n",
        "class Paragraph(BaseModel):\n",
        "    original_paragraph: str = Field(description=\"The original paragraph\")\n",
        "    edited_paragraph: str = Field(description=\"The improved edited paragraph\")\n",
        "    feedback: str = Field(description=(\n",
        "        \"Constructive feedback on the original paragraph\"\n",
        "    ))\n",
        "\n",
        "structured_llm = creative_llm.with_structured_output(Paragraph)"
      ]
    },
    {
      "cell_type": "markdown",
      "metadata": {},
      "source": [
        "当我把一个 Pydantic 模型（比如 Paragraph）传给 with_structured_output(...)，LangChain 会做这样几件事:\n",
        "\n",
        "* 1.读取 Paragraph 类中的字段结构和类型\n",
        "比如看到original_paragraph: str = Field(description=\"The original paragraph\")\n",
        "就知道：\n",
        "字段名：original_paragraph\n",
        "类型：string\n",
        "说明：这是原始段落\n",
        "\n",
        "\n",
        "* 2.自动生成 function calling schema。\n",
        "LangChain 会把这个模型转换成 OpenAI function calling 所需要的 schema 结构。\n",
        "这个 schema 会传给 OpenAI 模型（或其他支持 function calling 的模型）作为函数定义，告诉它：\n",
        "你必须返回一个结构化的 JSON，其中必须包含这三个字段。\n",
        "\n",
        "* 3.调用 LLM 并解析返回结果为 Paragraph 实例。\n",
        "LLM 会根据这个 schema 生成一个 JSON 对象，\n",
        "LangChain 会自动把这个 JSON 解析回你定义的 Paragraph 类"
      ]
    },
    {
      "cell_type": "markdown",
      "metadata": {
        "id": "7kOGsMRhEIyZ"
      },
      "source": [
        "Now we put all of this together in another chain:"
      ]
    },
    {
      "cell_type": "code",
      "execution_count": 22,
      "metadata": {
        "id": "4sIuyP-L-u7A"
      },
      "outputs": [],
      "source": [
        "# chain 3: inputs: article / output: article_para\n",
        "chain_three = (\n",
        "    {\"article\": lambda x: x[\"article\"]}\n",
        "    | third_prompt\n",
        "    | structured_llm\n",
        "    | {\n",
        "        \"original_paragraph\": lambda x: x.original_paragraph,\n",
        "        \"edited_paragraph\": lambda x: x.edited_paragraph,\n",
        "        \"feedback\": lambda x: x.feedback\n",
        "    }\n",
        ")"
      ]
    },
    {
      "cell_type": "code",
      "execution_count": 21,
      "metadata": {},
      "outputs": [
        {
          "data": {
            "text/plain": [
              "Paragraph(original_paragraph='Retrieval Augmented Generation (RAG) is commonly used to provide LLMs with up-to-date knowledge on a particular subject or access to proprietary knowledge.', edited_paragraph='Retrieval Augmented Generation (RAG) is a widely employed technique that enhances Large Language Models (LLMs) by supplying them with up-to-date information on specific topics and access to proprietary knowledge, thereby improving their performance and relevance in various applications.', feedback=\"The original paragraph was clear and concise but lacked depth and context. By using phrases like 'widely employed technique' and 'enhances Large Language Models,' the edited version provides a clearer picture of the significance of RAG. Additionally, it also clarifies the benefits of using RAG, which were not mentioned in the original. To improve your writing, consider adding context or detail to enrich your statements.\")"
            ]
          },
          "execution_count": 21,
          "metadata": {},
          "output_type": "execute_result"
        }
      ],
      "source": [
        "# 这是直接用了structured_llm\n",
        "# chain 3: inputs: article / output: article_para\n",
        "chain_three = (\n",
        "    {\"article\": lambda x: x[\"article\"]}\n",
        "    | third_prompt\n",
        "    | structured_llm\n",
        ")\n",
        "chain_three.invoke({\"article\": article})"
      ]
    },
    {
      "cell_type": "code",
      "execution_count": 23,
      "metadata": {
        "colab": {
          "base_uri": "https://localhost:8080/"
        },
        "id": "hLnzeFPSEZkJ",
        "outputId": "1c009230-a7ee-4b76-826d-aec9125956b5"
      },
      "outputs": [
        {
          "data": {
            "text/plain": [
              "{'original_paragraph': 'By 2020, it was becoming clear that neural AI systems could not perform tasks symbolic systems typically excelled in, such as arithmetic, accessing structured DB data, or making API calls. These tasks require discrete input parameters that allow us to process them reliably according to strict written logic.',\n",
              " 'edited_paragraph': 'By 2020, it became evident that neural AI systems struggled with tasks that symbolic systems typically excel in, such as arithmetic, accessing structured database data, and making API calls. These operations demand discrete input parameters, which enable reliable processing according to well-defined logical rules.',\n",
              " 'feedback': \"The original paragraph effectively conveys an important observation about the limitations of neural AI systems. However, it could benefit from a more concise and direct phrasing. For example, changing 'was becoming clear' to 'became evident' makes the sentence more assertive. Additionally, replacing 'structured DB data' with 'structured database data' provides clarity for readers who may not be familiar with the abbreviation. Overall, aim for precise vocabulary and a more assertive tone to enhance clarity and impact.\"}"
            ]
          },
          "execution_count": 23,
          "metadata": {},
          "output_type": "execute_result"
        }
      ],
      "source": [
        "out = chain_three.invoke({\"article\": article})\n",
        "out"
      ]
    },
    {
      "cell_type": "markdown",
      "metadata": {
        "id": "PZ-sfqNnH6aq"
      },
      "source": [
        "Now we want this article to look appealing, so we need to grab an image based of our article! However the prompt for the article image `cannot be over 1000 letters` so this has to be short in case we want to add anything in such as `style` later on."
      ]
    },
    {
      "cell_type": "code",
      "execution_count": 24,
      "metadata": {
        "id": "h7ew1WT4H6aq"
      },
      "outputs": [],
      "source": [
        "from langchain_community.utilities.dalle_image_generator import DallEAPIWrapper\n",
        "from langchain_core.prompts import PromptTemplate\n",
        "\n",
        "image_prompt = PromptTemplate(\n",
        "    input_variables=[\"article\"],\n",
        "    template=(\n",
        "        \"Generate a prompt with less then 500 characters to generate an image \"\n",
        "        \"based on the following article: {article}\"\n",
        "    )\n",
        ")"
      ]
    },
    {
      "cell_type": "markdown",
      "metadata": {
        "id": "kjZ_rqPZH6aq"
      },
      "source": [
        "The `generate_and_display` function will generate the article image once we have the prompt from our image prompt."
      ]
    },
    {
      "cell_type": "code",
      "execution_count": 44,
      "metadata": {
        "id": "LLxLXKS4H6aq"
      },
      "outputs": [],
      "source": [
        "from skimage import io\n",
        "import matplotlib.pyplot as plt\n",
        "from langchain_core.runnables import RunnableLambda\n",
        "import openai\n",
        "\n",
        "\n",
        "\n",
        "def generate_and_display_image(image_prompt):\n",
        "    dalle = DallEAPIWrapper(model = \"dall-e-2\")\n",
        "    print(image_prompt)\n",
        "    print(\"Prompt 长度:\", len(image_prompt))\n",
        "    try:\n",
        "        image_url = dalle.run(image_prompt)\n",
        "        print(image_url)\n",
        "        image_data = io.imread(image_url)\n",
        "\n",
        "        # And update the display code to:\n",
        "        plt.imshow(image_data)\n",
        "        plt.axis('off')  #隐藏坐标轴\n",
        "        plt.show()\n",
        "    except Exception as e:\n",
        "        print(f\"DALL-E 生成失败{e}\")\n",
        "        try:\n",
        "            client = openai.OpenAI(api_key=os.getenv('OPENAI_API_KEY'))\n",
        "            response = client.images.generate(\n",
        "                model=\"dall-e-2\",\n",
        "                prompt=image_prompt,\n",
        "                size=\"512x512\",\n",
        "                n=1,\n",
        "            )\n",
        "            image_url = response.data[0].url\n",
        "            print(\"使用 OpenAI 客户端生成成功:\", image_url)\n",
        "            \n",
        "            # 显示图像\n",
        "            image_data = io.imread(image_url)\n",
        "            plt.figure(figsize=(8, 8))\n",
        "            plt.imshow(image_data)\n",
        "            plt.axis('off')\n",
        "            plt.title(\"Generated Image\")\n",
        "            plt.show()\n",
        "            \n",
        "\n",
        "        except Exception as e2:\n",
        "            print(f\"OpenAI 客户端也失败: {e2}\")\n",
        "\n",
        "\n",
        "# we wrap this in a RunnableLambda for use with LCEL\n",
        "image_gen_runnable = RunnableLambda(generate_and_display_image)"
      ]
    },
    {
      "cell_type": "markdown",
      "metadata": {
        "id": "Q3bIZVzcvkJJ"
      },
      "source": [
        "We have all of our image generation components ready, we chain them together again with LCEL:"
      ]
    },
    {
      "cell_type": "code",
      "execution_count": 45,
      "metadata": {
        "id": "J1QQtXtfAwRU"
      },
      "outputs": [],
      "source": [
        "# chain 4: inputs: article, article_para / outputs: new_suggestion_article\n",
        "chain_four = (\n",
        "    {\"article\": lambda x: x[\"article\"]}\n",
        "    | image_prompt\n",
        "    | llm\n",
        "    | (lambda x: x.content)\n",
        "    | image_gen_runnable\n",
        ")"
      ]
    },
    {
      "cell_type": "markdown",
      "metadata": {
        "id": "yHl5sfMNvr-J"
      },
      "source": [
        "And now, we `invoke` our final chain:"
      ]
    },
    {
      "cell_type": "code",
      "execution_count": 46,
      "metadata": {
        "colab": {
          "base_uri": "https://localhost:8080/",
          "height": 406
        },
        "id": "dAU3jI0VvGlp",
        "outputId": "e0924fa6-4698-4d86-93fa-de8fcdbaac67"
      },
      "outputs": [
        {
          "name": "stdout",
          "output_type": "stream",
          "text": [
            "Create an image that visually represents the concept of neuro-symbolic AI agents. Depict a futuristic scene where a large language model (LLM) interacts with traditional code, symbolizing the integration of neural and symbolic computation. Include elements like a digital brain merging with lines of code, mathematical symbols, and web search icons. Show a dynamic flow of reasoning and action, illustrating the ReAct method with arrows connecting reasoning steps to tool actions. The overall tone should be innovative and tech-forward, highlighting the potential of AI agents in the future.\n",
            "Prompt 长度: 591\n",
            "Error code: 400 - {'error': {'message': \"Unknown parameter: 'quality'.\", 'type': 'invalid_request_error', 'param': 'quality', 'code': 'unknown_parameter'}}\n"
          ]
        }
      ],
      "source": [
        "chain_four.invoke({\"article\": article})"
      ]
    },
    {
      "cell_type": "code",
      "execution_count": 31,
      "metadata": {},
      "outputs": [
        {
          "name": "stdout",
          "output_type": "stream",
          "text": [
            "API Key 状态: True\n",
            "模型名称: gpt-4o-mini\n"
          ]
        }
      ],
      "source": [
        "import os\n",
        "print(\"API Key 状态:\", bool(os.getenv(\"OPENAI_API_KEY\")))\n",
        "print(\"模型名称:\", openai_model)"
      ]
    },
    {
      "cell_type": "markdown",
      "metadata": {
        "id": "VAA3_UuSH6av"
      },
      "source": [
        "With that we've built LLM chains that can help us building and writing articles. We've understood a few of the basics of LangChain, introduced **L**ang**C**hain **E**xpression **L**anguage (LCEL), and built a multi-modal article-helper pipeline."
      ]
    }
  ],
  "metadata": {
    "colab": {
      "provenance": []
    },
    "kernelspec": {
      "display_name": ".venv",
      "language": "python",
      "name": "python3"
    },
    "language_info": {
      "codemirror_mode": {
        "name": "ipython",
        "version": 3
      },
      "file_extension": ".py",
      "mimetype": "text/x-python",
      "name": "python",
      "nbconvert_exporter": "python",
      "pygments_lexer": "ipython3",
      "version": "3.12.7"
    }
  },
  "nbformat": 4,
  "nbformat_minor": 0
}
